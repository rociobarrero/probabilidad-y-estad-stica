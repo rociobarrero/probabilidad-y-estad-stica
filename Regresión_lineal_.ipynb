{
  "nbformat": 4,
  "nbformat_minor": 0,
  "metadata": {
    "colab": {
      "provenance": [],
      "collapsed_sections": []
    },
    "kernelspec": {
      "name": "python3",
      "display_name": "Python 3"
    },
    "language_info": {
      "name": "python"
    }
  },
  "cells": [
    {
      "cell_type": "markdown",
      "source": [
        "###Regresión lineal "
      ],
      "metadata": {
        "id": "9YYyISaRQB8h"
      }
    },
    {
      "cell_type": "code",
      "source": [
        "%matplotlib inline \n",
        "import matplotlib.pyplot as plt \n",
        "import seaborn as sns; sns.set()\n",
        "import numpy as np"
      ],
      "metadata": {
        "id": "qBJGdOC_QOU2"
      },
      "execution_count": null,
      "outputs": []
    },
    {
      "cell_type": "markdown",
      "source": [
        "## Simple Linear Regression\n",
        "\n",
        "We will start with the most familiar linear regression, a straight-line fit to data.\n",
        "A straight-line fit is a model of the form\n",
        "$$\n",
        "y = ax + b\n",
        "$$\n",
        "where $a$ is commonly known as the *slope*, and $b$ is commonly known as the *intercept*.\n",
        "\n",
        "Consider the following data, which is scattered about a line with a slope of 2 and an intercept of -5:\n"
      ],
      "metadata": {
        "id": "laVD5EGSQjgU"
      }
    },
    {
      "cell_type": "code",
      "source": [
        "rng = np.random.RandomState(1)\n",
        "x = 10 * rng.rand(50) #generar 50 puntos aleatorios \n",
        "y = 2* x - 5 + rng.rand(50) #el -5 es defnir desde donde va a empezar la tabla \n",
        "plt.scatter(x, y);"
      ],
      "metadata": {
        "colab": {
          "base_uri": "https://localhost:8080/",
          "height": 268
        },
        "id": "63LsbmaNQoKO",
        "outputId": "4e0c28f3-f168-4b00-ad68-2cb5d9741f8b"
      },
      "execution_count": null,
      "outputs": [
        {
          "output_type": "display_data",
          "data": {
            "text/plain": [
              "<Figure size 432x288 with 1 Axes>"
            ],
            "image/png": "[encoded data removed]"
          },
          "metadata": {}
        }
      ]
    },
    {
      "cell_type": "markdown",
      "source": [
        "*meta: encontrar \"la mejor recta\" que ajuste a los puntos"
      ],
      "metadata": {
        "id": "1JaQHW1mRt5t"
      }
    },
    {
      "cell_type": "markdown",
      "source": [
        "##Nuevo colab "
      ],
      "metadata": {
        "id": "k0A_rMr7hZgo"
      }
    },
    {
      "cell_type": "code",
      "source": [
        "import matplotlib.pyplot as plt \n",
        "\n",
        "x = [5,7,8,7,2,17,2,9,4,11,12,9,6] #rango de numeros en el eje x y tambien están relacionados x y por ejemplo el 5 está asociado con 99\n",
        "y = [99,86,87,88,111,86,103,87,94,78,77,85,86] #rango de numeros en el eje y \n",
        "\n",
        "plt.scatter(x, y)\n",
        "plt.show()\n"
      ],
      "metadata": {
        "id": "Yv4CMsUoROej",
        "colab": {
          "base_uri": "https://localhost:8080/",
          "height": 265
        },
        "outputId": "d1bc2cc0-64e6-447d-c526-292794884f5e"
      },
      "execution_count": null,
      "outputs": [
        {
          "output_type": "display_data",
          "data": {
            "text/plain": [
              "<Figure size 432x288 with 1 Axes>"
            ],
            "image/png": "[encoded data removed]"
          },
          "metadata": {
            "needs_background": "light"
          }
        }
      ]
    },
    {
      "cell_type": "code",
      "source": [
        "#necesitas a la media de x y a la media de y \n",
        "import numpy as np\n",
        "barx = np.mean(x)\n",
        "bary = np.mean(y)\n",
        "print(barx, bary)\n"
      ],
      "metadata": {
        "colab": {
          "base_uri": "https://localhost:8080/"
        },
        "id": "_QhQSmGSh8wc",
        "outputId": "831fbfad-028e-4c7a-e862-243aeef79299"
      },
      "execution_count": null,
      "outputs": [
        {
          "output_type": "stream",
          "name": "stdout",
          "text": [
            "7.615384615384615 89.76923076923077\n"
          ]
        }
      ]
    },
    {
      "cell_type": "code",
      "source": [
        "#calcular la varianza \n",
        "varx = np.var(x, ddof=-1) #--> variancia muestral #grados de libertad: cuanto le estas restando a la variable, siempre es uno\n",
        "covxy = np.cov(x, y, ddof= 1) #covarianza muestral \n",
        "\n",
        "varx, covxy"
      ],
      "metadata": {
        "colab": {
          "base_uri": "https://localhost:8080/"
        },
        "id": "pZZ1CLm9jLmr",
        "outputId": "60110607-a6c9-4980-b416-20cd0da65a25"
      },
      "execution_count": null,
      "outputs": [
        {
          "output_type": "execute_result",
          "data": {
            "text/plain": [
              "(14.934065934065936, array([[ 17.42307692, -30.51282051],\n",
              "        [-30.51282051,  92.85897436]]))"
            ]
          },
          "metadata": {},
          "execution_count": 21
        }
      ]
    },
    {
      "cell_type": "code",
      "source": [
        "print(varx)"
      ],
      "metadata": {
        "colab": {
          "base_uri": "https://localhost:8080/"
        },
        "id": "v2Gg_dmQkTBc",
        "outputId": "6578da72-3bcc-4d09-d88e-dbe3117114d0"
      },
      "execution_count": null,
      "outputs": [
        {
          "output_type": "stream",
          "name": "stdout",
          "text": [
            "14.934065934065936\n"
          ]
        }
      ]
    },
    {
      "cell_type": "code",
      "source": [
        "#quieres escoger solamente este numerito -30.51282051\n",
        "covxy = covxy[0,1]\n",
        "covxy"
      ],
      "metadata": {
        "colab": {
          "base_uri": "https://localhost:8080/"
        },
        "id": "UucSAJrckZTE",
        "outputId": "71c0b5a4-4177-4581-9936-0a6fbaa658f2"
      },
      "execution_count": null,
      "outputs": [
        {
          "output_type": "execute_result",
          "data": {
            "text/plain": [
              "-30.51282051282051"
            ]
          },
          "metadata": {},
          "execution_count": 23
        }
      ]
    },
    {
      "cell_type": "code",
      "source": [
        "#quien es beta 0\n",
        "beta1 = covxy/varx \n",
        "beta0 = bary - beta1*barx\n",
        "\n",
        "print(beta0, beta1)"
      ],
      "metadata": {
        "colab": {
          "base_uri": "https://localhost:8080/"
        },
        "id": "xPqJYSSQkrVg",
        "outputId": "2d36461c-d7c3-4729-b242-724d9f1207c6"
      },
      "execution_count": null,
      "outputs": [
        {
          "output_type": "stream",
          "name": "stdout",
          "text": [
            "105.32874851417898 -2.0431689968113806\n"
          ]
        }
      ]
    },
    {
      "cell_type": "markdown",
      "source": [
        "#Recta de regresión \n",
        "fórmula --> y = beta0+beta1x\n",
        "\n",
        "y = 105.32 - 2.04x"
      ],
      "metadata": {
        "id": "Fya1CBx1lKdD"
      }
    },
    {
      "cell_type": "markdown",
      "source": [
        "lo mismo pero usando el modulo \"stats\""
      ],
      "metadata": {
        "id": "yymaOmjil422"
      }
    },
    {
      "cell_type": "code",
      "source": [
        "import matplotlib.pyplot as plt\n",
        "from scipy import stats\n",
        "\n",
        "slope, intercept, r, p, std_err = stats.linregress(x, y) #slope = pendiente, r = medida para ver que tan bueno es el modelo mientras más cercano de 1 mejor el modelo \n",
        "\n",
        "def myfunc(x):\n",
        "  return slope * x + intercept\n",
        "\n",
        "mymodel = list(map(myfunc, x))\n",
        "\n",
        "plt.scatter(x, y)\n",
        "plt.plot(x, mymodel)\n",
        "plt.show"
      ],
      "metadata": {
        "colab": {
          "base_uri": "https://localhost:8080/",
          "height": 282
        },
        "id": "Wv-t1giFliN3",
        "outputId": "cab729d8-4d03-4957-cc96-d6011562709e"
      },
      "execution_count": null,
      "outputs": [
        {
          "output_type": "execute_result",
          "data": {
            "text/plain": [
              "<function matplotlib.pyplot.show(*args, **kw)>"
            ]
          },
          "metadata": {},
          "execution_count": 31
        },
        {
          "output_type": "display_data",
          "data": {
            "text/plain": [
              "<Figure size 432x288 with 1 Axes>"
            ],
            "image/png": "[encoded data removed]"
          },
          "metadata": {
            "needs_background": "light"
          }
        }
      ]
    },
    {
      "cell_type": "code",
      "source": [
        "print(r) #es una medida (coeficiente de determinación) que indica que tan buen modelo es el ajustado entre -1 y 1 (-1 < r < 1)\n",
        "#si r es más cercano a 0 es mal modelo, si r esta entre -1 y 1 es buen modelo "
      ],
      "metadata": {
        "colab": {
          "base_uri": "https://localhost:8080/"
        },
        "id": "6ftk0qbumKzu",
        "outputId": "d2910dd8-824d-4b8c-f0ac-eb75e1776af7"
      },
      "execution_count": null,
      "outputs": [
        {
          "output_type": "stream",
          "name": "stdout",
          "text": [
            "-0.758591524376155\n"
          ]
        }
      ]
    },
    {
      "cell_type": "code",
      "source": [
        "s = myfunc(10) #s --> recta ves cuando x este en 10 cuanto va a valer en y\n",
        "print(s)"
      ],
      "metadata": {
        "colab": {
          "base_uri": "https://localhost:8080/"
        },
        "id": "50gLM11Xn9i_",
        "outputId": "43196a99-44f2-4d22-a436-2774e74981af"
      },
      "execution_count": null,
      "outputs": [
        {
          "output_type": "stream",
          "name": "stdout",
          "text": [
            "85.59308314937454\n"
          ]
        }
      ]
    },
    {
      "cell_type": "markdown",
      "source": [
        "###Tarea"
      ],
      "metadata": {
        "id": "_YTxI5okprou"
      }
    },
    {
      "cell_type": "code",
      "source": [
        "import matplotlib.pyplot as plt \n",
        "y = [0.05, 0.06, 0.08, 0.10, 0.13, 0.15, 0.20, 0.22, 0.25, 0.29, 0.32, 0.33, 0.34, 0.37, 0.39, 0.41, 0.42, 0.44, 0.45, 0.46, 0.49]\n",
        "x = [1963, 1968, 1971, 1974, 1975, 1978, 1981, 1985, 1988, 1991, 1995, 1999, 2001, 2002, 2006, 2007, 2008, 2009, 2012, 2013, 2014]\n",
        "\n",
        "plt.scatter(x, y)\n",
        "plt.show()"
      ],
      "metadata": {
        "colab": {
          "base_uri": "https://localhost:8080/",
          "height": 265
        },
        "id": "n-nXyLD5ptNI",
        "outputId": "d07b97b6-08c2-4698-becd-e6c6a84d08ab"
      },
      "execution_count": null,
      "outputs": [
        {
          "output_type": "display_data",
          "data": {
            "text/plain": [
              "<Figure size 432x288 with 1 Axes>"
            ],
            "image/png": "[encoded data removed]"
          },
          "metadata": {
            "needs_background": "light"
          }
        }
      ]
    },
    {
      "cell_type": "code",
      "source": [
        "import numpy as np\n",
        "barx = np.mean(x)\n",
        "bary = np.mean(y)\n",
        "print(barx, bary)"
      ],
      "metadata": {
        "colab": {
          "base_uri": "https://localhost:8080/"
        },
        "id": "6ww19EYVrSzv",
        "outputId": "1ffd1815-e2e0-4dc1-93a2-1d7fac8485be"
      },
      "execution_count": null,
      "outputs": [
        {
          "output_type": "stream",
          "name": "stdout",
          "text": [
            "1992.3809523809523 0.2833333333333334\n"
          ]
        }
      ]
    },
    {
      "cell_type": "code",
      "source": [
        "varx = np.var(x, ddof=-1)\n",
        "covxy = np.cov(x, y, ddof= 1)\n",
        "\n",
        "varx, covxy"
      ],
      "metadata": {
        "colab": {
          "base_uri": "https://localhost:8080/"
        },
        "id": "W_d-KCwdraTM",
        "outputId": "f55e1838-e93e-44d6-c554-84d9f05984fd"
      },
      "execution_count": null,
      "outputs": [
        {
          "output_type": "execute_result",
          "data": {
            "text/plain": [
              "(244.5887445887446, array([[2.69047619e+02, 2.36516667e+00],\n",
              "        [2.36516667e+00, 2.09633333e-02]]))"
            ]
          },
          "metadata": {},
          "execution_count": 45
        }
      ]
    },
    {
      "cell_type": "code",
      "source": [
        "print(varx)\n"
      ],
      "metadata": {
        "colab": {
          "base_uri": "https://localhost:8080/"
        },
        "id": "_KXW6PDariE1",
        "outputId": "602ff6cf-7507-49cc-9b68-6df2dae13dc7"
      },
      "execution_count": null,
      "outputs": [
        {
          "output_type": "stream",
          "name": "stdout",
          "text": [
            "244.5887445887446\n"
          ]
        }
      ]
    },
    {
      "cell_type": "code",
      "source": [
        "covxy = covxy[0,1]\n",
        "covxy"
      ],
      "metadata": {
        "colab": {
          "base_uri": "https://localhost:8080/"
        },
        "id": "gZCGU0reryzK",
        "outputId": "2e487168-6c86-43b1-c447-0110bdefcefb"
      },
      "execution_count": null,
      "outputs": [
        {
          "output_type": "execute_result",
          "data": {
            "text/plain": [
              "2.3651666666666666"
            ]
          },
          "metadata": {},
          "execution_count": 47
        }
      ]
    },
    {
      "cell_type": "code",
      "source": [
        "beta1 = covxy/varx \n",
        "beta0 = bary - beta1*barx\n",
        "\n",
        "print(beta0, beta1)"
      ],
      "metadata": {
        "colab": {
          "base_uri": "https://localhost:8080/"
        },
        "id": "2-aU2Uterzin",
        "outputId": "8eb9b790-bec2-4efe-c40b-47670ae269e9"
      },
      "execution_count": null,
      "outputs": [
        {
          "output_type": "stream",
          "name": "stdout",
          "text": [
            "-18.982937581120943 0.009669973451327434\n"
          ]
        }
      ]
    },
    {
      "cell_type": "markdown",
      "source": [
        "#Recta de regresión \n",
        "y = -18.98 + 0.0096x"
      ],
      "metadata": {
        "id": "zdB0B_Hlr746"
      }
    },
    {
      "cell_type": "code",
      "source": [
        "import matplotlib.pyplot as plt\n",
        "from scipy import stats\n",
        "\n",
        "slope, intercept, r, p, std_err = stats.linregress(x, y) #slope = pendiente, r = medida para ver que tan bueno es el modelo mientras más cercano de 1 mejor el modelo \n",
        "\n",
        "def myfunc(x):\n",
        "  return slope * x + intercept\n",
        "\n",
        "mymodel = list(map(myfunc, x))\n",
        "\n",
        "plt.scatter(x, y)\n",
        "plt.plot(x, mymodel)\n",
        "plt.show"
      ],
      "metadata": {
        "colab": {
          "base_uri": "https://localhost:8080/",
          "height": 282
        },
        "id": "U3xi3Ecdr3Hy",
        "outputId": "5a265f23-c359-4de1-bfe0-401a65de92f6"
      },
      "execution_count": null,
      "outputs": [
        {
          "output_type": "execute_result",
          "data": {
            "text/plain": [
              "<function matplotlib.pyplot.show(*args, **kw)>"
            ]
          },
          "metadata": {},
          "execution_count": 49
        },
        {
          "output_type": "display_data",
          "data": {
            "text/plain": [
              "<Figure size 432x288 with 1 Axes>"
            ],
            "image/png": "[encoded data removed]"
          },
          "metadata": {
            "needs_background": "light"
          }
        }
      ]
    }
  ]
}