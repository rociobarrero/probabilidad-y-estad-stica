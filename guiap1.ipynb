{
  "nbformat": 4,
  "nbformat_minor": 0,
  "metadata": {
    "colab": {
      "provenance": [],
      "collapsed_sections": []
    },
    "kernelspec": {
      "name": "python3",
      "display_name": "Python 3"
    },
    "language_info": {
      "name": "python"
    }
  },
  "cells": [
    {
      "cell_type": "markdown",
      "source": [
        "1.- En un salón de clases hay 60 alumnos. De los alumnos 30 estudian francés, 35 estudian ruso y 5 estudian francés y ruso. Dibuja un\n",
        "diagrama de Venn y calcula la probabilidad de que si se elige un estudiante al azar, éste estudie solamente francés."
      ],
      "metadata": {
        "id": "OY_OujgXf7yG"
      }
    },
    {
      "cell_type": "code",
      "source": [
        "from matplotlib_venn import venn2, venn2_circles, venn2_unweighted\n",
        "from matplotlib import pyplot as ptl"
      ],
      "metadata": {
        "id": "wR7-t3NUhIES"
      },
      "execution_count": null,
      "outputs": []
    },
    {
      "cell_type": "code",
      "source": [
        "venn2(subsets = (30, 25, 5), set_labels= (\"ruso\", \"francés\")) "
      ],
      "metadata": {
        "colab": {
          "base_uri": "https://localhost:8080/",
          "height": 265
        },
        "id": "eVj6DtMwhQTs",
        "outputId": "8c26e810-e07e-45e2-ee77-bd240b4d7c03"
      },
      "execution_count": null,
      "outputs": [
        {
          "output_type": "execute_result",
          "data": {
            "text/plain": [
              "<matplotlib_venn._common.VennDiagram at 0x7f546f314590>"
            ]
          },
          "metadata": {},
          "execution_count": 39
        },
        {
          "output_type": "display_data",
          "data": {
            "text/plain": [
              "<Figure size 432x288 with 1 Axes>"
            ],
            "image/png": "[encoded data removed]"
          },
          "metadata": {}
        }
      ]
    },
    {
      "cell_type": "code",
      "source": [
        "venn2(subsets = (60, 25, 0.4166), set_labels= (\"alumnos\", \"francés\"))"
      ],
      "metadata": {
        "colab": {
          "base_uri": "https://localhost:8080/",
          "height": 267
        },
        "id": "J0oDUpDCh1_7",
        "outputId": "3d36968c-67ce-4543-ffae-22dec0735546"
      },
      "execution_count": null,
      "outputs": [
        {
          "output_type": "execute_result",
          "data": {
            "text/plain": [
              "<matplotlib_venn._common.VennDiagram at 0x7f546ed15e90>"
            ]
          },
          "metadata": {},
          "execution_count": 43
        },
        {
          "output_type": "display_data",
          "data": {
            "text/plain": [
              "<Figure size 432x288 with 1 Axes>"
            ],
            "image/png": "[encoded data removed]"
          },
          "metadata": {}
        }
      ]
    },
    {
      "cell_type": "markdown",
      "source": [
        "2.- Se lanza un dado 3 veces.\n",
        "- Describe al espacio muestral.\n",
        "- Calcula la probabilidad de que salga la cara 1 en el primer lanzamiento.\n",
        "- Calcula la probabilidad condicional del evento cae un número par en los tres lanzamientos dado que en el primer lanzamiento cae 2.\n",
        "- Consideremos el evento: \"se obtiene sol en el segundo lanzamiento\". ¿Tal evento es independiente de los eventos anteriores?"
      ],
      "metadata": {
        "id": "ily8JKznjQNE"
      }
    },
    {
      "cell_type": "code",
      "source": [
        "from itertools import product"
      ],
      "metadata": {
        "id": "YZM_H4q4jXd-"
      },
      "execution_count": null,
      "outputs": []
    },
    {
      "cell_type": "markdown",
      "source": [
        "- Describe al espacio muestral."
      ],
      "metadata": {
        "id": "apW525C7z-Mo"
      }
    },
    {
      "cell_type": "code",
      "source": [
        "dados = set(product({1, 2, 3, 4, 5, 6}, repeat = 3))\n",
        "dados"
      ],
      "metadata": {
        "colab": {
          "base_uri": "https://localhost:8080/"
        },
        "id": "u7DbqA0CjfSt",
        "outputId": "ab250f90-1529-4e5a-843d-37f933096cf2"
      },
      "execution_count": null,
      "outputs": [
        {
          "output_type": "execute_result",
          "data": {
            "text/plain": [
              "{(1, 1, 1),\n",
              " (1, 1, 2),\n",
              " (1, 1, 3),\n",
              " (1, 1, 4),\n",
              " (1, 1, 5),\n",
              " (1, 1, 6),\n",
              " (1, 2, 1),\n",
              " (1, 2, 2),\n",
              " (1, 2, 3),\n",
              " (1, 2, 4),\n",
              " (1, 2, 5),\n",
              " (1, 2, 6),\n",
              " (1, 3, 1),\n",
              " (1, 3, 2),\n",
              " (1, 3, 3),\n",
              " (1, 3, 4),\n",
              " (1, 3, 5),\n",
              " (1, 3, 6),\n",
              " (1, 4, 1),\n",
              " (1, 4, 2),\n",
              " (1, 4, 3),\n",
              " (1, 4, 4),\n",
              " (1, 4, 5),\n",
              " (1, 4, 6),\n",
              " (1, 5, 1),\n",
              " (1, 5, 2),\n",
              " (1, 5, 3),\n",
              " (1, 5, 4),\n",
              " (1, 5, 5),\n",
              " (1, 5, 6),\n",
              " (1, 6, 1),\n",
              " (1, 6, 2),\n",
              " (1, 6, 3),\n",
              " (1, 6, 4),\n",
              " (1, 6, 5),\n",
              " (1, 6, 6),\n",
              " (2, 1, 1),\n",
              " (2, 1, 2),\n",
              " (2, 1, 3),\n",
              " (2, 1, 4),\n",
              " (2, 1, 5),\n",
              " (2, 1, 6),\n",
              " (2, 2, 1),\n",
              " (2, 2, 2),\n",
              " (2, 2, 3),\n",
              " (2, 2, 4),\n",
              " (2, 2, 5),\n",
              " (2, 2, 6),\n",
              " (2, 3, 1),\n",
              " (2, 3, 2),\n",
              " (2, 3, 3),\n",
              " (2, 3, 4),\n",
              " (2, 3, 5),\n",
              " (2, 3, 6),\n",
              " (2, 4, 1),\n",
              " (2, 4, 2),\n",
              " (2, 4, 3),\n",
              " (2, 4, 4),\n",
              " (2, 4, 5),\n",
              " (2, 4, 6),\n",
              " (2, 5, 1),\n",
              " (2, 5, 2),\n",
              " (2, 5, 3),\n",
              " (2, 5, 4),\n",
              " (2, 5, 5),\n",
              " (2, 5, 6),\n",
              " (2, 6, 1),\n",
              " (2, 6, 2),\n",
              " (2, 6, 3),\n",
              " (2, 6, 4),\n",
              " (2, 6, 5),\n",
              " (2, 6, 6),\n",
              " (3, 1, 1),\n",
              " (3, 1, 2),\n",
              " (3, 1, 3),\n",
              " (3, 1, 4),\n",
              " (3, 1, 5),\n",
              " (3, 1, 6),\n",
              " (3, 2, 1),\n",
              " (3, 2, 2),\n",
              " (3, 2, 3),\n",
              " (3, 2, 4),\n",
              " (3, 2, 5),\n",
              " (3, 2, 6),\n",
              " (3, 3, 1),\n",
              " (3, 3, 2),\n",
              " (3, 3, 3),\n",
              " (3, 3, 4),\n",
              " (3, 3, 5),\n",
              " (3, 3, 6),\n",
              " (3, 4, 1),\n",
              " (3, 4, 2),\n",
              " (3, 4, 3),\n",
              " (3, 4, 4),\n",
              " (3, 4, 5),\n",
              " (3, 4, 6),\n",
              " (3, 5, 1),\n",
              " (3, 5, 2),\n",
              " (3, 5, 3),\n",
              " (3, 5, 4),\n",
              " (3, 5, 5),\n",
              " (3, 5, 6),\n",
              " (3, 6, 1),\n",
              " (3, 6, 2),\n",
              " (3, 6, 3),\n",
              " (3, 6, 4),\n",
              " (3, 6, 5),\n",
              " (3, 6, 6),\n",
              " (4, 1, 1),\n",
              " (4, 1, 2),\n",
              " (4, 1, 3),\n",
              " (4, 1, 4),\n",
              " (4, 1, 5),\n",
              " (4, 1, 6),\n",
              " (4, 2, 1),\n",
              " (4, 2, 2),\n",
              " (4, 2, 3),\n",
              " (4, 2, 4),\n",
              " (4, 2, 5),\n",
              " (4, 2, 6),\n",
              " (4, 3, 1),\n",
              " (4, 3, 2),\n",
              " (4, 3, 3),\n",
              " (4, 3, 4),\n",
              " (4, 3, 5),\n",
              " (4, 3, 6),\n",
              " (4, 4, 1),\n",
              " (4, 4, 2),\n",
              " (4, 4, 3),\n",
              " (4, 4, 4),\n",
              " (4, 4, 5),\n",
              " (4, 4, 6),\n",
              " (4, 5, 1),\n",
              " (4, 5, 2),\n",
              " (4, 5, 3),\n",
              " (4, 5, 4),\n",
              " (4, 5, 5),\n",
              " (4, 5, 6),\n",
              " (4, 6, 1),\n",
              " (4, 6, 2),\n",
              " (4, 6, 3),\n",
              " (4, 6, 4),\n",
              " (4, 6, 5),\n",
              " (4, 6, 6),\n",
              " (5, 1, 1),\n",
              " (5, 1, 2),\n",
              " (5, 1, 3),\n",
              " (5, 1, 4),\n",
              " (5, 1, 5),\n",
              " (5, 1, 6),\n",
              " (5, 2, 1),\n",
              " (5, 2, 2),\n",
              " (5, 2, 3),\n",
              " (5, 2, 4),\n",
              " (5, 2, 5),\n",
              " (5, 2, 6),\n",
              " (5, 3, 1),\n",
              " (5, 3, 2),\n",
              " (5, 3, 3),\n",
              " (5, 3, 4),\n",
              " (5, 3, 5),\n",
              " (5, 3, 6),\n",
              " (5, 4, 1),\n",
              " (5, 4, 2),\n",
              " (5, 4, 3),\n",
              " (5, 4, 4),\n",
              " (5, 4, 5),\n",
              " (5, 4, 6),\n",
              " (5, 5, 1),\n",
              " (5, 5, 2),\n",
              " (5, 5, 3),\n",
              " (5, 5, 4),\n",
              " (5, 5, 5),\n",
              " (5, 5, 6),\n",
              " (5, 6, 1),\n",
              " (5, 6, 2),\n",
              " (5, 6, 3),\n",
              " (5, 6, 4),\n",
              " (5, 6, 5),\n",
              " (5, 6, 6),\n",
              " (6, 1, 1),\n",
              " (6, 1, 2),\n",
              " (6, 1, 3),\n",
              " (6, 1, 4),\n",
              " (6, 1, 5),\n",
              " (6, 1, 6),\n",
              " (6, 2, 1),\n",
              " (6, 2, 2),\n",
              " (6, 2, 3),\n",
              " (6, 2, 4),\n",
              " (6, 2, 5),\n",
              " (6, 2, 6),\n",
              " (6, 3, 1),\n",
              " (6, 3, 2),\n",
              " (6, 3, 3),\n",
              " (6, 3, 4),\n",
              " (6, 3, 5),\n",
              " (6, 3, 6),\n",
              " (6, 4, 1),\n",
              " (6, 4, 2),\n",
              " (6, 4, 3),\n",
              " (6, 4, 4),\n",
              " (6, 4, 5),\n",
              " (6, 4, 6),\n",
              " (6, 5, 1),\n",
              " (6, 5, 2),\n",
              " (6, 5, 3),\n",
              " (6, 5, 4),\n",
              " (6, 5, 5),\n",
              " (6, 5, 6),\n",
              " (6, 6, 1),\n",
              " (6, 6, 2),\n",
              " (6, 6, 3),\n",
              " (6, 6, 4),\n",
              " (6, 6, 5),\n",
              " (6, 6, 6)}"
            ]
          },
          "metadata": {},
          "execution_count": 53
        }
      ]
    },
    {
      "cell_type": "markdown",
      "source": [
        "- Calcula la probabilidad de que salga la cara 1 en el primer lanzamiento."
      ],
      "metadata": {
        "id": "oAvjzRpo0B1b"
      }
    },
    {
      "cell_type": "code",
      "source": [
        "A = {Dados for Dados in dados if Dados [0]== 1}\n",
        "A"
      ],
      "metadata": {
        "colab": {
          "base_uri": "https://localhost:8080/"
        },
        "id": "_CZ8xhb3pTYP",
        "outputId": "ae2661ab-4d41-4b42-da87-12fc8d7a8a4a"
      },
      "execution_count": null,
      "outputs": [
        {
          "output_type": "execute_result",
          "data": {
            "text/plain": [
              "{(1, 1, 1),\n",
              " (1, 1, 2),\n",
              " (1, 1, 3),\n",
              " (1, 1, 4),\n",
              " (1, 1, 5),\n",
              " (1, 1, 6),\n",
              " (1, 2, 1),\n",
              " (1, 2, 2),\n",
              " (1, 2, 3),\n",
              " (1, 2, 4),\n",
              " (1, 2, 5),\n",
              " (1, 2, 6),\n",
              " (1, 3, 1),\n",
              " (1, 3, 2),\n",
              " (1, 3, 3),\n",
              " (1, 3, 4),\n",
              " (1, 3, 5),\n",
              " (1, 3, 6),\n",
              " (1, 4, 1),\n",
              " (1, 4, 2),\n",
              " (1, 4, 3),\n",
              " (1, 4, 4),\n",
              " (1, 4, 5),\n",
              " (1, 4, 6),\n",
              " (1, 5, 1),\n",
              " (1, 5, 2),\n",
              " (1, 5, 3),\n",
              " (1, 5, 4),\n",
              " (1, 5, 5),\n",
              " (1, 5, 6),\n",
              " (1, 6, 1),\n",
              " (1, 6, 2),\n",
              " (1, 6, 3),\n",
              " (1, 6, 4),\n",
              " (1, 6, 5),\n",
              " (1, 6, 6)}"
            ]
          },
          "metadata": {},
          "execution_count": 75
        }
      ]
    },
    {
      "cell_type": "code",
      "source": [
        "len(A)"
      ],
      "metadata": {
        "colab": {
          "base_uri": "https://localhost:8080/"
        },
        "id": "IeObl4KerznU",
        "outputId": "28a72d72-9d17-4936-bcd3-e8ca2d773284"
      },
      "execution_count": null,
      "outputs": [
        {
          "output_type": "execute_result",
          "data": {
            "text/plain": [
              "36"
            ]
          },
          "metadata": {},
          "execution_count": 77
        }
      ]
    },
    {
      "cell_type": "code",
      "source": [
        "def prob(A):\n",
        "  return len(A)/len(dados)"
      ],
      "metadata": {
        "id": "kVAbGLSasDI-"
      },
      "execution_count": null,
      "outputs": []
    },
    {
      "cell_type": "code",
      "source": [
        "prob(A)"
      ],
      "metadata": {
        "colab": {
          "base_uri": "https://localhost:8080/"
        },
        "id": "fFNe-DdmsMMl",
        "outputId": "59f3668b-68e9-45b2-e223-8cbceb918642"
      },
      "execution_count": null,
      "outputs": [
        {
          "output_type": "execute_result",
          "data": {
            "text/plain": [
              "0.16666666666666666"
            ]
          },
          "metadata": {},
          "execution_count": 79
        }
      ]
    },
    {
      "cell_type": "markdown",
      "source": [
        "- Calcula la probabilidad condicional del evento cae un número par en los tres lanzamientos dado que en el primer lanzamiento cae 2."
      ],
      "metadata": {
        "id": "zqIvbHZU0LRJ"
      }
    },
    {
      "cell_type": "code",
      "source": [
        "primerlanzamientoptdos = {Dados for Dados in dados if Dados [0]== 2}  \n",
        "primerlanzamientoptdos"
      ],
      "metadata": {
        "colab": {
          "base_uri": "https://localhost:8080/"
        },
        "id": "TWXZ3lEV0MTF",
        "outputId": "c509b6a2-2322-4f9b-e666-329a229311b1"
      },
      "execution_count": null,
      "outputs": [
        {
          "output_type": "execute_result",
          "data": {
            "text/plain": [
              "{(2, 1, 1),\n",
              " (2, 1, 2),\n",
              " (2, 1, 3),\n",
              " (2, 1, 4),\n",
              " (2, 1, 5),\n",
              " (2, 1, 6),\n",
              " (2, 2, 1),\n",
              " (2, 2, 2),\n",
              " (2, 2, 3),\n",
              " (2, 2, 4),\n",
              " (2, 2, 5),\n",
              " (2, 2, 6),\n",
              " (2, 3, 1),\n",
              " (2, 3, 2),\n",
              " (2, 3, 3),\n",
              " (2, 3, 4),\n",
              " (2, 3, 5),\n",
              " (2, 3, 6),\n",
              " (2, 4, 1),\n",
              " (2, 4, 2),\n",
              " (2, 4, 3),\n",
              " (2, 4, 4),\n",
              " (2, 4, 5),\n",
              " (2, 4, 6),\n",
              " (2, 5, 1),\n",
              " (2, 5, 2),\n",
              " (2, 5, 3),\n",
              " (2, 5, 4),\n",
              " (2, 5, 5),\n",
              " (2, 5, 6),\n",
              " (2, 6, 1),\n",
              " (2, 6, 2),\n",
              " (2, 6, 3),\n",
              " (2, 6, 4),\n",
              " (2, 6, 5),\n",
              " (2, 6, 6)}"
            ]
          },
          "metadata": {},
          "execution_count": 56
        }
      ]
    },
    {
      "cell_type": "code",
      "source": [
        "B = {Dados for Dados in primerlanzamientoptdos if Dados [1]%2 == 0 and Dados [2]%2 == 0}\n",
        "B"
      ],
      "metadata": {
        "colab": {
          "base_uri": "https://localhost:8080/"
        },
        "id": "eSXE1YFS1C8B",
        "outputId": "77bfb5b5-0bac-4588-aae2-55d7bcd9f2cb"
      },
      "execution_count": null,
      "outputs": [
        {
          "output_type": "execute_result",
          "data": {
            "text/plain": [
              "{(2, 2, 2),\n",
              " (2, 2, 4),\n",
              " (2, 2, 6),\n",
              " (2, 4, 2),\n",
              " (2, 4, 4),\n",
              " (2, 4, 6),\n",
              " (2, 6, 2),\n",
              " (2, 6, 4),\n",
              " (2, 6, 6)}"
            ]
          },
          "metadata": {},
          "execution_count": 64
        }
      ]
    },
    {
      "cell_type": "code",
      "source": [
        "def prob(B):\n",
        "  return len(B)/len(dados)\n",
        "prob(B)"
      ],
      "metadata": {
        "colab": {
          "base_uri": "https://localhost:8080/"
        },
        "id": "GhRomZ8Dsgsu",
        "outputId": "6f41b935-bdc0-4ae7-fecf-b0d8bba5eb4e"
      },
      "execution_count": null,
      "outputs": [
        {
          "output_type": "execute_result",
          "data": {
            "text/plain": [
              "0.041666666666666664"
            ]
          },
          "metadata": {},
          "execution_count": 67
        }
      ]
    },
    {
      "cell_type": "markdown",
      "source": [
        "- Consideremos el evento: \"se obtiene sol en el segundo lanzamiento\". ¿Tal evento es independiente de los eventos anteriores?"
      ],
      "metadata": {
        "id": "2xNu9vp-nGwE"
      }
    },
    {
      "cell_type": "code",
      "source": [
        "monedas = set(product([\"a\", \"s\"], repeat = 3))\n",
        "monedas"
      ],
      "metadata": {
        "colab": {
          "base_uri": "https://localhost:8080/"
        },
        "id": "uNG4TDjanH2u",
        "outputId": "f83170cf-c3fc-466b-c970-2932ccc442f8"
      },
      "execution_count": null,
      "outputs": [
        {
          "output_type": "execute_result",
          "data": {
            "text/plain": [
              "{('a', 'a', 'a'),\n",
              " ('a', 'a', 's'),\n",
              " ('a', 's', 'a'),\n",
              " ('a', 's', 's'),\n",
              " ('s', 'a', 'a'),\n",
              " ('s', 'a', 's'),\n",
              " ('s', 's', 'a'),\n",
              " ('s', 's', 's')}"
            ]
          },
          "metadata": {},
          "execution_count": 45
        }
      ]
    },
    {
      "cell_type": "code",
      "source": [
        "C = {Monedas for Monedas in monedas if Monedas [1] == \"s\"}\n",
        "C"
      ],
      "metadata": {
        "colab": {
          "base_uri": "https://localhost:8080/"
        },
        "id": "kDASbw7Ppl8y",
        "outputId": "ff829139-9dc6-4d33-9aa2-81d5becb1e9b"
      },
      "execution_count": null,
      "outputs": [
        {
          "output_type": "execute_result",
          "data": {
            "text/plain": [
              "{('a', 's', 'a'), ('a', 's', 's'), ('s', 's', 'a'), ('s', 's', 's')}"
            ]
          },
          "metadata": {},
          "execution_count": 80
        }
      ]
    },
    {
      "cell_type": "code",
      "source": [
        "len(C)"
      ],
      "metadata": {
        "colab": {
          "base_uri": "https://localhost:8080/"
        },
        "id": "ZIfqF3b5tAHZ",
        "outputId": "eb0bc571-b542-4db6-f1de-939395889e80"
      },
      "execution_count": null,
      "outputs": [
        {
          "output_type": "execute_result",
          "data": {
            "text/plain": [
              "4"
            ]
          },
          "metadata": {},
          "execution_count": 81
        }
      ]
    },
    {
      "cell_type": "code",
      "source": [
        "def prob(C):\n",
        "  return len(C)/len(monedas)\n",
        "prob(C)"
      ],
      "metadata": {
        "colab": {
          "base_uri": "https://localhost:8080/"
        },
        "id": "v3R8zV15uBIB",
        "outputId": "0e791634-937a-468f-940b-8105b7f33455"
      },
      "execution_count": null,
      "outputs": [
        {
          "output_type": "execute_result",
          "data": {
            "text/plain": [
              "0.5"
            ]
          },
          "metadata": {},
          "execution_count": 82
        }
      ]
    },
    {
      "cell_type": "code",
      "source": [
        "def indep(A, B, C): \n",
        "  return prob(A & B & C) == prob(A)*prob(B)*prob(C)"
      ],
      "metadata": {
        "id": "iuj4FU9UqGGo"
      },
      "execution_count": null,
      "outputs": []
    },
    {
      "cell_type": "code",
      "source": [
        "indep(A, B, C)"
      ],
      "metadata": {
        "colab": {
          "base_uri": "https://localhost:8080/"
        },
        "id": "i6kwxnw9uuVF",
        "outputId": "2f372fe5-f3d1-4d6d-87e1-fed58bc17953"
      },
      "execution_count": null,
      "outputs": [
        {
          "output_type": "execute_result",
          "data": {
            "text/plain": [
              "False"
            ]
          },
          "metadata": {},
          "execution_count": 84
        }
      ]
    },
    {
      "cell_type": "markdown",
      "source": [
        "3.- Considera el experimento:\n",
        "Alicia y Karla lanzan 2 dados justos. Se tiene el siguiente juego:\n",
        "- Si la suma de los dados es par, Alicia gana la cantidad máxima que sale en las caras y Karla pierde la cantidad mínima que sale en las\n",
        "caras.\n",
        "- Si la suma de los dados es un número impar, Karla gana la cantidad de 5 y Alicia pierde la cantidad de 3 .\n",
        "\n",
        "¿Quién tiene más probabilidad de obtener mayor ganancia?"
      ],
      "metadata": {
        "id": "byrzE_tjpTs2"
      }
    },
    {
      "cell_type": "code",
      "source": [
        "from itertools import product\n",
        "Dado = set(product([1,2,3,4,5,6], repeat = 2))\n",
        "Dado"
      ],
      "metadata": {
        "colab": {
          "base_uri": "https://localhost:8080/"
        },
        "id": "MBhBw3Z0qSRx",
        "outputId": "96655b2f-3cd3-46d3-908c-c60a0d287378"
      },
      "execution_count": null,
      "outputs": [
        {
          "output_type": "execute_result",
          "data": {
            "text/plain": [
              "{(1, 1),\n",
              " (1, 2),\n",
              " (1, 3),\n",
              " (1, 4),\n",
              " (1, 5),\n",
              " (1, 6),\n",
              " (2, 1),\n",
              " (2, 2),\n",
              " (2, 3),\n",
              " (2, 4),\n",
              " (2, 5),\n",
              " (2, 6),\n",
              " (3, 1),\n",
              " (3, 2),\n",
              " (3, 3),\n",
              " (3, 4),\n",
              " (3, 5),\n",
              " (3, 6),\n",
              " (4, 1),\n",
              " (4, 2),\n",
              " (4, 3),\n",
              " (4, 4),\n",
              " (4, 5),\n",
              " (4, 6),\n",
              " (5, 1),\n",
              " (5, 2),\n",
              " (5, 3),\n",
              " (5, 4),\n",
              " (5, 5),\n",
              " (5, 6),\n",
              " (6, 1),\n",
              " (6, 2),\n",
              " (6, 3),\n",
              " (6, 4),\n",
              " (6, 5),\n",
              " (6, 6)}"
            ]
          },
          "metadata": {},
          "execution_count": 20
        }
      ]
    },
    {
      "cell_type": "code",
      "source": [
        "len(Dado)"
      ],
      "metadata": {
        "colab": {
          "base_uri": "https://localhost:8080/"
        },
        "id": "yay_qtY8rnFK",
        "outputId": "0b4e1a1f-3dd2-4e76-b0d3-bc45a6d6b0f9"
      },
      "execution_count": null,
      "outputs": [
        {
          "output_type": "execute_result",
          "data": {
            "text/plain": [
              "36"
            ]
          },
          "metadata": {},
          "execution_count": 24
        }
      ]
    },
    {
      "cell_type": "code",
      "source": [
        "#pares\n",
        "L = [1,2,3,4,5,6]\n",
        "P = [x for x in L if x%2 == 0]\n",
        "P"
      ],
      "metadata": {
        "colab": {
          "base_uri": "https://localhost:8080/"
        },
        "id": "d42kuRTkDLbf",
        "outputId": "ea4e46f5-5f40-436b-f588-e4d9f5023813"
      },
      "execution_count": null,
      "outputs": [
        {
          "output_type": "execute_result",
          "data": {
            "text/plain": [
              "[2, 4, 6]"
            ]
          },
          "metadata": {},
          "execution_count": 21
        }
      ]
    },
    {
      "cell_type": "code",
      "source": [
        "#todos las sumas de los numeros que podrían dar par\n",
        "P= {dado for dado in Dado if (dado[0] + dado[1]) %2 ==0}\n",
        "P"
      ],
      "metadata": {
        "colab": {
          "base_uri": "https://localhost:8080/"
        },
        "id": "ovWW54PcCBKY",
        "outputId": "f44df449-662c-4fcc-90e3-ee65319b2f08"
      },
      "execution_count": null,
      "outputs": [
        {
          "output_type": "execute_result",
          "data": {
            "text/plain": [
              "{(1, 1),\n",
              " (1, 3),\n",
              " (1, 5),\n",
              " (2, 2),\n",
              " (2, 4),\n",
              " (2, 6),\n",
              " (3, 1),\n",
              " (3, 3),\n",
              " (3, 5),\n",
              " (4, 2),\n",
              " (4, 4),\n",
              " (4, 6),\n",
              " (5, 1),\n",
              " (5, 3),\n",
              " (5, 5),\n",
              " (6, 2),\n",
              " (6, 4),\n",
              " (6, 6)}"
            ]
          },
          "metadata": {},
          "execution_count": 29
        }
      ]
    },
    {
      "cell_type": "code",
      "source": [
        "len(P)"
      ],
      "metadata": {
        "colab": {
          "base_uri": "https://localhost:8080/"
        },
        "id": "uF1FyWqaF679",
        "outputId": "462dedda-7709-4729-b34e-2da31b28f479"
      },
      "execution_count": null,
      "outputs": [
        {
          "output_type": "execute_result",
          "data": {
            "text/plain": [
              "18"
            ]
          },
          "metadata": {},
          "execution_count": 30
        }
      ]
    },
    {
      "cell_type": "code",
      "source": [
        "Alicia = {max(alicia) for alicia in P}\n",
        "Alicia"
      ],
      "metadata": {
        "colab": {
          "base_uri": "https://localhost:8080/"
        },
        "id": "ayO7V1iaErcu",
        "outputId": "1969e406-1262-4e7c-ba26-fd9810d4e411"
      },
      "execution_count": null,
      "outputs": [
        {
          "output_type": "execute_result",
          "data": {
            "text/plain": [
              "{1, 2, 3, 4, 5, 6}"
            ]
          },
          "metadata": {},
          "execution_count": 33
        }
      ]
    },
    {
      "cell_type": "markdown",
      "source": [
        "- Alicia gane 1 peso: \n",
        "  $(1,1) ---- P(gane \\ 1 \\ peso)= 1/18$\n",
        "- Alicia gane 2 pesos: \n",
        "  $(2,2) ---- P(gane \\ 2 \\ pesos) = 1/18$\n",
        "- Alicia gane 3 pesos: \n",
        "  $(1,3), (3,1), (3,3) ---- P(gane \\ 3 \\ pesos) = 3/18$\n",
        "- Alicia gane 4 pesos: \n",
        "  $(2,4), (4,2), (4,4) ---- P(gane \\ 4 \\ pesos) = 3/18$\n",
        "- Alicia gane 5 pesos: \n",
        "  $(1,5), (3,5), (5,1), (5,3), (5,5) ---- P(gane \\ 5 \\ pesos) = 5/18$\n",
        "- Alicia gane 6 pesos: \n",
        "  $(2,6), (4,6), (6,2), (6,4), (6,6) ---- P(gane \\ 6 \\ pesos) = 5/18$\n",
        "   "
      ],
      "metadata": {
        "id": "EnaVz-pxFCsP"
      }
    },
    {
      "cell_type": "code",
      "source": [
        "Karla = {min(karla) for karla in P}\n",
        "Karla"
      ],
      "metadata": {
        "colab": {
          "base_uri": "https://localhost:8080/"
        },
        "id": "WhC_U4rOLwXf",
        "outputId": "cca5ec27-40f8-4523-ba16-703117b05ca7"
      },
      "execution_count": null,
      "outputs": [
        {
          "output_type": "execute_result",
          "data": {
            "text/plain": [
              "{1, 2, 3, 4, 5, 6}"
            ]
          },
          "metadata": {},
          "execution_count": 34
        }
      ]
    },
    {
      "cell_type": "markdown",
      "source": [
        "- Karla pierda 1 peso: \n",
        "  $(1,1), (1,3), (1,5), (3,1), (5,1) ---- P(pierda \\ 1 \\ peso)= 5/18$\n",
        "- Karla pierda 2 pesos: \n",
        "  $(2,2), (2,4), (2,6), (4,2), (6,2) ---- P(pierda \\ 2 \\ pesos)= 5/18$\n",
        "- Karla pierda 3 pesos: \n",
        "  $(3,3), (3,5), (5,3) ---- P(pierda \\ 3 \\ pesos)= 3/18$\n",
        "- Karla pierda 4 pesos: \n",
        "  $(4,4), (4,6), (6,4) ---- P(pierda \\ 4 \\ pesos)= 3/18$\n",
        "-Karla pierda 5 pesos: \n",
        "  $(5,5) ---- P(pierda \\ 5 \\ peso)= 1/18$\n",
        "- Karla pierda 6 pesos: \n",
        "  $(6,6) ---- P(pierda \\ 6 \\ pesos)= 1/18$\n"
      ],
      "metadata": {
        "id": "ncCmfR8uLcOe"
      }
    },
    {
      "cell_type": "code",
      "source": [
        "#todos las sumas de los numeros que podrían dar impar\n",
        "I = [dado for dado in Dado if (dado[0] + dado[1]) %2 == 1]\n",
        "I"
      ],
      "metadata": {
        "colab": {
          "base_uri": "https://localhost:8080/"
        },
        "id": "Tcw4UiYzEX7q",
        "outputId": "48fa0419-8cfb-43b3-b522-133980ddcb3a"
      },
      "execution_count": null,
      "outputs": [
        {
          "output_type": "execute_result",
          "data": {
            "text/plain": [
              "[(5, 6),\n",
              " (2, 1),\n",
              " (1, 6),\n",
              " (2, 5),\n",
              " (1, 2),\n",
              " (6, 3),\n",
              " (3, 6),\n",
              " (4, 1),\n",
              " (3, 2),\n",
              " (5, 4),\n",
              " (4, 5),\n",
              " (5, 2),\n",
              " (1, 4),\n",
              " (2, 3),\n",
              " (6, 5),\n",
              " (6, 1),\n",
              " (4, 3),\n",
              " (3, 4)]"
            ]
          },
          "metadata": {},
          "execution_count": 31
        }
      ]
    },
    {
      "cell_type": "code",
      "source": [
        "len(I)"
      ],
      "metadata": {
        "colab": {
          "base_uri": "https://localhost:8080/"
        },
        "id": "2sQruQxxHw5Z",
        "outputId": "b4aa2fa3-07f2-492c-c011-ee0cb307bcf7"
      },
      "execution_count": null,
      "outputs": [
        {
          "output_type": "execute_result",
          "data": {
            "text/plain": [
              "18"
            ]
          },
          "metadata": {},
          "execution_count": 32
        }
      ]
    },
    {
      "cell_type": "markdown",
      "source": [
        "Siempre va a ganar 5 pesos Karla y y Alicia va a perder 3 pesos \n",
        "Karla tiene una probabilidad de 18/32 o del 50% de ganar 5 pesos \n",
        "Alicia de 18/32 o del 50% de perder 3 pesos"
      ],
      "metadata": {
        "id": "jal2vOhNIoT5"
      }
    },
    {
      "cell_type": "markdown",
      "source": [
        "!!!! ¿Quién tiene más probabilidad de obtener mayor ganancia?\n",
        "\n",
        "Al final Karla es la que tiene mayor probabilidad de tener mayor ganancia :"
      ],
      "metadata": {
        "id": "OOWtAdVcSHQm"
      }
    },
    {
      "cell_type": "markdown",
      "source": [
        "4.- Escribe en un DataFrame la distribución asociada a la suma que se obtiene al lanzar 3 dados."
      ],
      "metadata": {
        "id": "tq1hq7gPvPR9"
      }
    },
    {
      "cell_type": "code",
      "source": [
        "def S(n): \n",
        "  Sn = [(x, y, z) for x in range (1, 7) for y  in range (1, 7) for z in range (1, 7) if x + y + z == n]\n",
        "  return Sn"
      ],
      "metadata": {
        "id": "jDMsIEHCvVPa"
      },
      "execution_count": null,
      "outputs": []
    },
    {
      "cell_type": "code",
      "source": [
        "suma3 = S(3)\n",
        "suma3"
      ],
      "metadata": {
        "colab": {
          "base_uri": "https://localhost:8080/"
        },
        "id": "RARxxM-GvoL_",
        "outputId": "c2e1523e-1174-499d-9776-e5398077436e"
      },
      "execution_count": null,
      "outputs": [
        {
          "output_type": "execute_result",
          "data": {
            "text/plain": [
              "[(1, 1, 1)]"
            ]
          },
          "metadata": {},
          "execution_count": 33
        }
      ]
    },
    {
      "cell_type": "code",
      "source": [
        "suma4 = S(4)\n",
        "suma4"
      ],
      "metadata": {
        "colab": {
          "base_uri": "https://localhost:8080/"
        },
        "id": "wqxGvArSwXkw",
        "outputId": "6bc51443-782b-49c4-e718-893c59f057cd"
      },
      "execution_count": null,
      "outputs": [
        {
          "output_type": "execute_result",
          "data": {
            "text/plain": [
              "[(1, 1, 2), (1, 2, 1), (2, 1, 1)]"
            ]
          },
          "metadata": {},
          "execution_count": 35
        }
      ]
    },
    {
      "cell_type": "code",
      "source": [
        "suma5 = S(5)\n",
        "suma5"
      ],
      "metadata": {
        "colab": {
          "base_uri": "https://localhost:8080/"
        },
        "id": "v5SmL9ZHwdEz",
        "outputId": "3ac591d1-6d2d-431f-a609-accd4557e75a"
      },
      "execution_count": null,
      "outputs": [
        {
          "output_type": "execute_result",
          "data": {
            "text/plain": [
              "[(1, 1, 3), (1, 2, 2), (1, 3, 1), (2, 1, 2), (2, 2, 1), (3, 1, 1)]"
            ]
          },
          "metadata": {},
          "execution_count": 36
        }
      ]
    },
    {
      "cell_type": "code",
      "source": [
        "suma6 = S(6)\n",
        "suma6"
      ],
      "metadata": {
        "colab": {
          "base_uri": "https://localhost:8080/"
        },
        "id": "TIgZ7iJEwgoM",
        "outputId": "bf128183-be9b-4ef4-939a-ed00de69ea2b"
      },
      "execution_count": null,
      "outputs": [
        {
          "output_type": "execute_result",
          "data": {
            "text/plain": [
              "[(1, 1, 4),\n",
              " (1, 2, 3),\n",
              " (1, 3, 2),\n",
              " (1, 4, 1),\n",
              " (2, 1, 3),\n",
              " (2, 2, 2),\n",
              " (2, 3, 1),\n",
              " (3, 1, 2),\n",
              " (3, 2, 1),\n",
              " (4, 1, 1)]"
            ]
          },
          "metadata": {},
          "execution_count": 37
        }
      ]
    },
    {
      "cell_type": "code",
      "source": [
        "suma7 = S(7)\n",
        "suma7"
      ],
      "metadata": {
        "colab": {
          "base_uri": "https://localhost:8080/"
        },
        "id": "UwMMSiBxwkKn",
        "outputId": "32821e94-4205-41a8-cff7-99cd467a1085"
      },
      "execution_count": null,
      "outputs": [
        {
          "output_type": "execute_result",
          "data": {
            "text/plain": [
              "[(1, 1, 5),\n",
              " (1, 2, 4),\n",
              " (1, 3, 3),\n",
              " (1, 4, 2),\n",
              " (1, 5, 1),\n",
              " (2, 1, 4),\n",
              " (2, 2, 3),\n",
              " (2, 3, 2),\n",
              " (2, 4, 1),\n",
              " (3, 1, 3),\n",
              " (3, 2, 2),\n",
              " (3, 3, 1),\n",
              " (4, 1, 2),\n",
              " (4, 2, 1),\n",
              " (5, 1, 1)]"
            ]
          },
          "metadata": {},
          "execution_count": 38
        }
      ]
    },
    {
      "cell_type": "code",
      "source": [
        "suma8 = S(8)\n",
        "suma8"
      ],
      "metadata": {
        "colab": {
          "base_uri": "https://localhost:8080/"
        },
        "id": "oBe-pt0_wn7J",
        "outputId": "3baa0088-3024-4425-ed23-0805bfc7a39d"
      },
      "execution_count": null,
      "outputs": [
        {
          "output_type": "execute_result",
          "data": {
            "text/plain": [
              "[(1, 1, 6),\n",
              " (1, 2, 5),\n",
              " (1, 3, 4),\n",
              " (1, 4, 3),\n",
              " (1, 5, 2),\n",
              " (1, 6, 1),\n",
              " (2, 1, 5),\n",
              " (2, 2, 4),\n",
              " (2, 3, 3),\n",
              " (2, 4, 2),\n",
              " (2, 5, 1),\n",
              " (3, 1, 4),\n",
              " (3, 2, 3),\n",
              " (3, 3, 2),\n",
              " (3, 4, 1),\n",
              " (4, 1, 3),\n",
              " (4, 2, 2),\n",
              " (4, 3, 1),\n",
              " (5, 1, 2),\n",
              " (5, 2, 1),\n",
              " (6, 1, 1)]"
            ]
          },
          "metadata": {},
          "execution_count": 39
        }
      ]
    },
    {
      "cell_type": "code",
      "source": [
        "suma9 = S(9)\n",
        "suma9 "
      ],
      "metadata": {
        "colab": {
          "base_uri": "https://localhost:8080/"
        },
        "id": "JYzRy43FwrQj",
        "outputId": "35820c59-b2f4-402a-b776-2bdef165de2d"
      },
      "execution_count": null,
      "outputs": [
        {
          "output_type": "execute_result",
          "data": {
            "text/plain": [
              "[(1, 2, 6),\n",
              " (1, 3, 5),\n",
              " (1, 4, 4),\n",
              " (1, 5, 3),\n",
              " (1, 6, 2),\n",
              " (2, 1, 6),\n",
              " (2, 2, 5),\n",
              " (2, 3, 4),\n",
              " (2, 4, 3),\n",
              " (2, 5, 2),\n",
              " (2, 6, 1),\n",
              " (3, 1, 5),\n",
              " (3, 2, 4),\n",
              " (3, 3, 3),\n",
              " (3, 4, 2),\n",
              " (3, 5, 1),\n",
              " (4, 1, 4),\n",
              " (4, 2, 3),\n",
              " (4, 3, 2),\n",
              " (4, 4, 1),\n",
              " (5, 1, 3),\n",
              " (5, 2, 2),\n",
              " (5, 3, 1),\n",
              " (6, 1, 2),\n",
              " (6, 2, 1)]"
            ]
          },
          "metadata": {},
          "execution_count": 40
        }
      ]
    },
    {
      "cell_type": "code",
      "source": [
        "suma10 = S(10)\n",
        "suma10"
      ],
      "metadata": {
        "colab": {
          "base_uri": "https://localhost:8080/"
        },
        "id": "HtxO4dYjwt9j",
        "outputId": "4a933a82-f932-4df2-bfa5-0b3e1795a4f2"
      },
      "execution_count": null,
      "outputs": [
        {
          "output_type": "execute_result",
          "data": {
            "text/plain": [
              "[(1, 3, 6),\n",
              " (1, 4, 5),\n",
              " (1, 5, 4),\n",
              " (1, 6, 3),\n",
              " (2, 2, 6),\n",
              " (2, 3, 5),\n",
              " (2, 4, 4),\n",
              " (2, 5, 3),\n",
              " (2, 6, 2),\n",
              " (3, 1, 6),\n",
              " (3, 2, 5),\n",
              " (3, 3, 4),\n",
              " (3, 4, 3),\n",
              " (3, 5, 2),\n",
              " (3, 6, 1),\n",
              " (4, 1, 5),\n",
              " (4, 2, 4),\n",
              " (4, 3, 3),\n",
              " (4, 4, 2),\n",
              " (4, 5, 1),\n",
              " (5, 1, 4),\n",
              " (5, 2, 3),\n",
              " (5, 3, 2),\n",
              " (5, 4, 1),\n",
              " (6, 1, 3),\n",
              " (6, 2, 2),\n",
              " (6, 3, 1)]"
            ]
          },
          "metadata": {},
          "execution_count": 41
        }
      ]
    },
    {
      "cell_type": "code",
      "source": [
        "suma11 = S(11)\n",
        "suma11"
      ],
      "metadata": {
        "colab": {
          "base_uri": "https://localhost:8080/"
        },
        "id": "yuB_Dfuxwy3B",
        "outputId": "a39ed013-8721-4ebf-881d-1fcb268b13e0"
      },
      "execution_count": null,
      "outputs": [
        {
          "output_type": "execute_result",
          "data": {
            "text/plain": [
              "[(1, 4, 6),\n",
              " (1, 5, 5),\n",
              " (1, 6, 4),\n",
              " (2, 3, 6),\n",
              " (2, 4, 5),\n",
              " (2, 5, 4),\n",
              " (2, 6, 3),\n",
              " (3, 2, 6),\n",
              " (3, 3, 5),\n",
              " (3, 4, 4),\n",
              " (3, 5, 3),\n",
              " (3, 6, 2),\n",
              " (4, 1, 6),\n",
              " (4, 2, 5),\n",
              " (4, 3, 4),\n",
              " (4, 4, 3),\n",
              " (4, 5, 2),\n",
              " (4, 6, 1),\n",
              " (5, 1, 5),\n",
              " (5, 2, 4),\n",
              " (5, 3, 3),\n",
              " (5, 4, 2),\n",
              " (5, 5, 1),\n",
              " (6, 1, 4),\n",
              " (6, 2, 3),\n",
              " (6, 3, 2),\n",
              " (6, 4, 1)]"
            ]
          },
          "metadata": {},
          "execution_count": 42
        }
      ]
    },
    {
      "cell_type": "code",
      "source": [
        "suma12 = S(12)\n",
        "suma12"
      ],
      "metadata": {
        "colab": {
          "base_uri": "https://localhost:8080/"
        },
        "id": "ORKJrVemw1RZ",
        "outputId": "7504c1e0-d2f8-41d7-c6eb-1998912333e7"
      },
      "execution_count": null,
      "outputs": [
        {
          "output_type": "execute_result",
          "data": {
            "text/plain": [
              "[(1, 5, 6),\n",
              " (1, 6, 5),\n",
              " (2, 4, 6),\n",
              " (2, 5, 5),\n",
              " (2, 6, 4),\n",
              " (3, 3, 6),\n",
              " (3, 4, 5),\n",
              " (3, 5, 4),\n",
              " (3, 6, 3),\n",
              " (4, 2, 6),\n",
              " (4, 3, 5),\n",
              " (4, 4, 4),\n",
              " (4, 5, 3),\n",
              " (4, 6, 2),\n",
              " (5, 1, 6),\n",
              " (5, 2, 5),\n",
              " (5, 3, 4),\n",
              " (5, 4, 3),\n",
              " (5, 5, 2),\n",
              " (5, 6, 1),\n",
              " (6, 1, 5),\n",
              " (6, 2, 4),\n",
              " (6, 3, 3),\n",
              " (6, 4, 2),\n",
              " (6, 5, 1)]"
            ]
          },
          "metadata": {},
          "execution_count": 43
        }
      ]
    },
    {
      "cell_type": "code",
      "source": [
        "suma13 = S(13)\n",
        "suma13"
      ],
      "metadata": {
        "colab": {
          "base_uri": "https://localhost:8080/"
        },
        "id": "EsbKngOCw7Jf",
        "outputId": "03eaece0-9a3a-47c3-d773-c82c68838dcd"
      },
      "execution_count": null,
      "outputs": [
        {
          "output_type": "execute_result",
          "data": {
            "text/plain": [
              "[(1, 6, 6),\n",
              " (2, 5, 6),\n",
              " (2, 6, 5),\n",
              " (3, 4, 6),\n",
              " (3, 5, 5),\n",
              " (3, 6, 4),\n",
              " (4, 3, 6),\n",
              " (4, 4, 5),\n",
              " (4, 5, 4),\n",
              " (4, 6, 3),\n",
              " (5, 2, 6),\n",
              " (5, 3, 5),\n",
              " (5, 4, 4),\n",
              " (5, 5, 3),\n",
              " (5, 6, 2),\n",
              " (6, 1, 6),\n",
              " (6, 2, 5),\n",
              " (6, 3, 4),\n",
              " (6, 4, 3),\n",
              " (6, 5, 2),\n",
              " (6, 6, 1)]"
            ]
          },
          "metadata": {},
          "execution_count": 44
        }
      ]
    },
    {
      "cell_type": "code",
      "source": [
        "suma14 = S(14)\n",
        "suma14"
      ],
      "metadata": {
        "colab": {
          "base_uri": "https://localhost:8080/"
        },
        "id": "1n4yBMBow9mg",
        "outputId": "b9bf374d-6ce3-462d-b77d-24361e2a965b"
      },
      "execution_count": null,
      "outputs": [
        {
          "output_type": "execute_result",
          "data": {
            "text/plain": [
              "[(2, 6, 6),\n",
              " (3, 5, 6),\n",
              " (3, 6, 5),\n",
              " (4, 4, 6),\n",
              " (4, 5, 5),\n",
              " (4, 6, 4),\n",
              " (5, 3, 6),\n",
              " (5, 4, 5),\n",
              " (5, 5, 4),\n",
              " (5, 6, 3),\n",
              " (6, 2, 6),\n",
              " (6, 3, 5),\n",
              " (6, 4, 4),\n",
              " (6, 5, 3),\n",
              " (6, 6, 2)]"
            ]
          },
          "metadata": {},
          "execution_count": 45
        }
      ]
    },
    {
      "cell_type": "code",
      "source": [
        "suma15 = S(15)\n",
        "suma15"
      ],
      "metadata": {
        "colab": {
          "base_uri": "https://localhost:8080/"
        },
        "id": "45QSG6HOxAU9",
        "outputId": "974045d3-de68-4952-c72a-f3f7fb3c25c0"
      },
      "execution_count": null,
      "outputs": [
        {
          "output_type": "execute_result",
          "data": {
            "text/plain": [
              "[(3, 6, 6),\n",
              " (4, 5, 6),\n",
              " (4, 6, 5),\n",
              " (5, 4, 6),\n",
              " (5, 5, 5),\n",
              " (5, 6, 4),\n",
              " (6, 3, 6),\n",
              " (6, 4, 5),\n",
              " (6, 5, 4),\n",
              " (6, 6, 3)]"
            ]
          },
          "metadata": {},
          "execution_count": 46
        }
      ]
    },
    {
      "cell_type": "code",
      "source": [
        "suma16 = S(16)\n",
        "suma16"
      ],
      "metadata": {
        "colab": {
          "base_uri": "https://localhost:8080/"
        },
        "id": "g0CLOfiFxC-m",
        "outputId": "85339d1f-ce03-4fb8-b42c-e831d6a69988"
      },
      "execution_count": null,
      "outputs": [
        {
          "output_type": "execute_result",
          "data": {
            "text/plain": [
              "[(4, 6, 6), (5, 5, 6), (5, 6, 5), (6, 4, 6), (6, 5, 5), (6, 6, 4)]"
            ]
          },
          "metadata": {},
          "execution_count": 47
        }
      ]
    },
    {
      "cell_type": "code",
      "source": [
        "suma17 = S(17)\n",
        "suma17"
      ],
      "metadata": {
        "colab": {
          "base_uri": "https://localhost:8080/"
        },
        "id": "IH5_Xp-LxGh_",
        "outputId": "fb37c220-bf9e-47dd-ef8a-aed571dd1dad"
      },
      "execution_count": null,
      "outputs": [
        {
          "output_type": "execute_result",
          "data": {
            "text/plain": [
              "[(5, 6, 6), (6, 5, 6), (6, 6, 5)]"
            ]
          },
          "metadata": {},
          "execution_count": 48
        }
      ]
    },
    {
      "cell_type": "code",
      "source": [
        "suma18 = S(18)\n",
        "suma18"
      ],
      "metadata": {
        "colab": {
          "base_uri": "https://localhost:8080/"
        },
        "id": "FKfwGZi7xKC5",
        "outputId": "6d8d45c2-53bc-4b4f-eb4a-087c19aca054"
      },
      "execution_count": null,
      "outputs": [
        {
          "output_type": "execute_result",
          "data": {
            "text/plain": [
              "[(6, 6, 6)]"
            ]
          },
          "metadata": {},
          "execution_count": 49
        }
      ]
    },
    {
      "cell_type": "code",
      "source": [
        "import pandas as pd"
      ],
      "metadata": {
        "id": "RO09KTIHxP47"
      },
      "execution_count": null,
      "outputs": []
    },
    {
      "cell_type": "code",
      "source": [
        "tresdados = {\"S(3)\": [suma3],\n",
        "        \"S(4)\": [suma4],\n",
        "        \"S(5)\": [suma5],\n",
        "        \"S(5)\": [suma5],\n",
        "        \"S(6)\": [suma6],\n",
        "        \"S(7)\": [suma7],\n",
        "        \"S(8)\": [suma8],\n",
        "        \"S(9)\": [suma9],\n",
        "        \"S(10)\": [suma10],\n",
        "        \"S(11)\": [suma11],\n",
        "        \"S(12)\": [suma12],\n",
        "        \"S(13)\": [suma13],\n",
        "        \"S(14)\": [suma14],\n",
        "        \"S(15)\": [suma15],\n",
        "        \"S(16)\": [suma16],\n",
        "        \"S(17)\": [suma17],\n",
        "        \"S(18)\": [suma18]}"
      ],
      "metadata": {
        "id": "OJbebOC3xV0k"
      },
      "execution_count": null,
      "outputs": []
    },
    {
      "cell_type": "code",
      "source": [
        "dfDados = pd.DataFrame(tresdados, index= [\"sumas\"])\n",
        "dfDados"
      ],
      "metadata": {
        "colab": {
          "base_uri": "https://localhost:8080/",
          "height": 194
        },
        "id": "bTiDSFqax-Dj",
        "outputId": "278c72da-c8d5-4721-879a-88b5800eb7b2"
      },
      "execution_count": null,
      "outputs": [
        {
          "output_type": "execute_result",
          "data": {
            "text/plain": [
              "              S(3)                               S(4)  \\\n",
              "sumas  [(1, 1, 1)]  [(1, 1, 2), (1, 2, 1), (2, 1, 1)]   \n",
              "\n",
              "                                                    S(5)  \\\n",
              "sumas  [(1, 1, 3), (1, 2, 2), (1, 3, 1), (2, 1, 2), (...   \n",
              "\n",
              "                                                    S(6)  \\\n",
              "sumas  [(1, 1, 4), (1, 2, 3), (1, 3, 2), (1, 4, 1), (...   \n",
              "\n",
              "                                                    S(7)  \\\n",
              "sumas  [(1, 1, 5), (1, 2, 4), (1, 3, 3), (1, 4, 2), (...   \n",
              "\n",
              "                                                    S(8)  \\\n",
              "sumas  [(1, 1, 6), (1, 2, 5), (1, 3, 4), (1, 4, 3), (...   \n",
              "\n",
              "                                                    S(9)  \\\n",
              "sumas  [(1, 2, 6), (1, 3, 5), (1, 4, 4), (1, 5, 3), (...   \n",
              "\n",
              "                                                   S(10)  \\\n",
              "sumas  [(1, 3, 6), (1, 4, 5), (1, 5, 4), (1, 6, 3), (...   \n",
              "\n",
              "                                                   S(11)  \\\n",
              "sumas  [(1, 4, 6), (1, 5, 5), (1, 6, 4), (2, 3, 6), (...   \n",
              "\n",
              "                                                   S(12)  \\\n",
              "sumas  [(1, 5, 6), (1, 6, 5), (2, 4, 6), (2, 5, 5), (...   \n",
              "\n",
              "                                                   S(13)  \\\n",
              "sumas  [(1, 6, 6), (2, 5, 6), (2, 6, 5), (3, 4, 6), (...   \n",
              "\n",
              "                                                   S(14)  \\\n",
              "sumas  [(2, 6, 6), (3, 5, 6), (3, 6, 5), (4, 4, 6), (...   \n",
              "\n",
              "                                                   S(15)  \\\n",
              "sumas  [(3, 6, 6), (4, 5, 6), (4, 6, 5), (5, 4, 6), (...   \n",
              "\n",
              "                                                   S(16)  \\\n",
              "sumas  [(4, 6, 6), (5, 5, 6), (5, 6, 5), (6, 4, 6), (...   \n",
              "\n",
              "                                   S(17)        S(18)  \n",
              "sumas  [(5, 6, 6), (6, 5, 6), (6, 6, 5)]  [(6, 6, 6)]  "
            ],
            "text/html": [
              "\n",
              "  <div id=\"df-33705168-c276-4e54-9975-f35c7ba75661\">\n",
              "    <div class=\"colab-df-container\">\n",
              "      <div>\n",
              "<style scoped>\n",
              "    .dataframe tbody tr th:only-of-type {\n",
              "        vertical-align: middle;\n",
              "    }\n",
              "\n",
              "    .dataframe tbody tr th {\n",
              "        vertical-align: top;\n",
              "    }\n",
              "\n",
              "    .dataframe thead th {\n",
              "        text-align: right;\n",
              "    }\n",
              "</style>\n",
              "<table border=\"1\" class=\"dataframe\">\n",
              "  <thead>\n",
              "    <tr style=\"text-align: right;\">\n",
              "      <th></th>\n",
              "      <th>S(3)</th>\n",
              "      <th>S(4)</th>\n",
              "      <th>S(5)</th>\n",
              "      <th>S(6)</th>\n",
              "      <th>S(7)</th>\n",
              "      <th>S(8)</th>\n",
              "      <th>S(9)</th>\n",
              "      <th>S(10)</th>\n",
              "      <th>S(11)</th>\n",
              "      <th>S(12)</th>\n",
              "      <th>S(13)</th>\n",
              "      <th>S(14)</th>\n",
              "      <th>S(15)</th>\n",
              "      <th>S(16)</th>\n",
              "      <th>S(17)</th>\n",
              "      <th>S(18)</th>\n",
              "    </tr>\n",
              "  </thead>\n",
              "  <tbody>\n",
              "    <tr>\n",
              "      <th>sumas</th>\n",
              "      <td>[(1, 1, 1)]</td>\n",
              "      <td>[(1, 1, 2), (1, 2, 1), (2, 1, 1)]</td>\n",
              "      <td>[(1, 1, 3), (1, 2, 2), (1, 3, 1), (2, 1, 2), (...</td>\n",
              "      <td>[(1, 1, 4), (1, 2, 3), (1, 3, 2), (1, 4, 1), (...</td>\n",
              "      <td>[(1, 1, 5), (1, 2, 4), (1, 3, 3), (1, 4, 2), (...</td>\n",
              "      <td>[(1, 1, 6), (1, 2, 5), (1, 3, 4), (1, 4, 3), (...</td>\n",
              "      <td>[(1, 2, 6), (1, 3, 5), (1, 4, 4), (1, 5, 3), (...</td>\n",
              "      <td>[(1, 3, 6), (1, 4, 5), (1, 5, 4), (1, 6, 3), (...</td>\n",
              "      <td>[(1, 4, 6), (1, 5, 5), (1, 6, 4), (2, 3, 6), (...</td>\n",
              "      <td>[(1, 5, 6), (1, 6, 5), (2, 4, 6), (2, 5, 5), (...</td>\n",
              "      <td>[(1, 6, 6), (2, 5, 6), (2, 6, 5), (3, 4, 6), (...</td>\n",
              "      <td>[(2, 6, 6), (3, 5, 6), (3, 6, 5), (4, 4, 6), (...</td>\n",
              "      <td>[(3, 6, 6), (4, 5, 6), (4, 6, 5), (5, 4, 6), (...</td>\n",
              "      <td>[(4, 6, 6), (5, 5, 6), (5, 6, 5), (6, 4, 6), (...</td>\n",
              "      <td>[(5, 6, 6), (6, 5, 6), (6, 6, 5)]</td>\n",
              "      <td>[(6, 6, 6)]</td>\n",
              "    </tr>\n",
              "  </tbody>\n",
              "</table>\n",
              "</div>\n",
              "      <button class=\"colab-df-convert\" onclick=\"convertToInteractive('df-33705168-c276-4e54-9975-f35c7ba75661')\"\n",
              "              title=\"Convert this dataframe to an interactive table.\"\n",
              "              style=\"display:none;\">\n",
              "        \n",
              "  <svg xmlns=\"http://www.w3.org/2000/svg\" height=\"24px\"viewBox=\"0 0 24 24\"\n",
              "       width=\"24px\">\n",
              "    <path d=\"M0 0h24v24H0V0z\" fill=\"none\"/>\n",
              "    <path d=\"M18.56 5.44l.94 2.06.94-2.06 2.06-.94-2.06-.94-.94-2.06-.94 2.06-2.06.94zm-11 1L8.5 8.5l.94-2.06 2.06-.94-2.06-.94L8.5 2.5l-.94 2.06-2.06.94zm10 10l.94 2.06.94-2.06 2.06-.94-2.06-.94-.94-2.06-.94 2.06-2.06.94z\"/><path d=\"M17.41 7.96l-1.37-1.37c-.4-.4-.92-.59-1.43-.59-.52 0-1.04.2-1.43.59L10.3 9.45l-7.72 7.72c-.78.78-.78 2.05 0 2.83L4 21.41c.39.39.9.59 1.41.59.51 0 1.02-.2 1.41-.59l7.78-7.78 2.81-2.81c.8-.78.8-2.07 0-2.86zM5.41 20L4 18.59l7.72-7.72 1.47 1.35L5.41 20z\"/>\n",
              "  </svg>\n",
              "      </button>\n",
              "      \n",
              "  <style>\n",
              "    .colab-df-container {\n",
              "      display:flex;\n",
              "      flex-wrap:wrap;\n",
              "      gap: 12px;\n",
              "    }\n",
              "\n",
              "    .colab-df-convert {\n",
              "      background-color: #E8F0FE;\n",
              "      border: none;\n",
              "      border-radius: 50%;\n",
              "      cursor: pointer;\n",
              "      display: none;\n",
              "      fill: #1967D2;\n",
              "      height: 32px;\n",
              "      padding: 0 0 0 0;\n",
              "      width: 32px;\n",
              "    }\n",
              "\n",
              "    .colab-df-convert:hover {\n",
              "      background-color: #E2EBFA;\n",
              "      box-shadow: 0px 1px 2px rgba(60, 64, 67, 0.3), 0px 1px 3px 1px rgba(60, 64, 67, 0.15);\n",
              "      fill: #174EA6;\n",
              "    }\n",
              "\n",
              "    [theme=dark] .colab-df-convert {\n",
              "      background-color: #3B4455;\n",
              "      fill: #D2E3FC;\n",
              "    }\n",
              "\n",
              "    [theme=dark] .colab-df-convert:hover {\n",
              "      background-color: #434B5C;\n",
              "      box-shadow: 0px 1px 3px 1px rgba(0, 0, 0, 0.15);\n",
              "      filter: drop-shadow(0px 1px 2px rgba(0, 0, 0, 0.3));\n",
              "      fill: #FFFFFF;\n",
              "    }\n",
              "  </style>\n",
              "\n",
              "      <script>\n",
              "        const buttonEl =\n",
              "          document.querySelector('#df-33705168-c276-4e54-9975-f35c7ba75661 button.colab-df-convert');\n",
              "        buttonEl.style.display =\n",
              "          google.colab.kernel.accessAllowed ? 'block' : 'none';\n",
              "\n",
              "        async function convertToInteractive(key) {\n",
              "          const element = document.querySelector('#df-33705168-c276-4e54-9975-f35c7ba75661');\n",
              "          const dataTable =\n",
              "            await google.colab.kernel.invokeFunction('convertToInteractive',\n",
              "                                                     [key], {});\n",
              "          if (!dataTable) return;\n",
              "\n",
              "          const docLinkHtml = 'Like what you see? Visit the ' +\n",
              "            '<a target=\"_blank\" href=https://colab.research.google.com/notebooks/data_table.ipynb>data table notebook</a>'\n",
              "            + ' to learn more about interactive tables.';\n",
              "          element.innerHTML = '';\n",
              "          dataTable['output_type'] = 'display_data';\n",
              "          await google.colab.output.renderOutput(dataTable, element);\n",
              "          const docLink = document.createElement('div');\n",
              "          docLink.innerHTML = docLinkHtml;\n",
              "          element.appendChild(docLink);\n",
              "        }\n",
              "      </script>\n",
              "    </div>\n",
              "  </div>\n",
              "  "
            ]
          },
          "metadata": {},
          "execution_count": 53
        }
      ]
    },
    {
      "cell_type": "markdown",
      "source": [
        "5.- En un salón de clases se encuentran 20 estudiantes. Se requiere comparar Horas de estudio en un día anterior a un examen con la\n",
        "calificación que se obtiene en el examen. Registra tus datos (que inventarás) en un diccionario y crea un DataFrame a partir del diccionario.\n",
        "Usando algún método en Pandas, da una descripción estadística de los datos anteriores."
      ],
      "metadata": {
        "id": "1ELaJsTuyVzH"
      }
    },
    {
      "cell_type": "code",
      "source": [
        "estudiantes = {\"Aurora\": [6, 9.3],\n",
        "               \"Anakin Skywalker\": [3, 8], \n",
        "               \"Alicia\": [4, 8.2],\n",
        "               \"Robin Hood\": [1, 6.6],\n",
        "               \"Barbie\": [2, 9.8],\n",
        "               \"Bambi\": [1, 7],\n",
        "               \"Edna Moda\": [4, 8.9],\n",
        "               \"Mufasa\": [2, 9.5],\n",
        "               \"Tinker Bell\": [3, 7.5], \n",
        "               \"Pato Donald\": [1, 6], \n",
        "               \"Cenicienta\": [2, 8.7],\n",
        "               \"Gus Gus\": [0, 3.8], \n",
        "               \"Rapunzel\": [5, 9.7], \n",
        "               \"Nemo\": [1, 5.5], \n",
        "               \"Tarzan\": [4, 7], \n",
        "               \"Eva\": [3, 9], \n",
        "               \"Tweedle Dee\": [0, 2.5], \n",
        "               \"Minnie Mouse\": [5, 8.5], \n",
        "               \"Tiger\": [2, 6.7], \n",
        "               \"Ursula\": [1, 6.9]}"
      ],
      "metadata": {
        "id": "REwakbbHyhbg"
      },
      "execution_count": null,
      "outputs": []
    },
    {
      "cell_type": "code",
      "source": [
        "import pandas as pd "
      ],
      "metadata": {
        "id": "1bzuCdZGerkb"
      },
      "execution_count": null,
      "outputs": []
    },
    {
      "cell_type": "code",
      "source": [
        "dfestudiantes = pd.DataFrame(estudiantes, index= [\"horas\", \"calificación\"])\n",
        "dfestudiantes"
      ],
      "metadata": {
        "colab": {
          "base_uri": "https://localhost:8080/",
          "height": 193
        },
        "id": "qqF7ANx_fS53",
        "outputId": "058e84e3-2282-4129-f188-8dbb8ea24aad"
      },
      "execution_count": null,
      "outputs": [
        {
          "output_type": "execute_result",
          "data": {
            "text/plain": [
              "              Aurora  Anakin Skywalker  Alicia  Robin Hood  Barbie  Bambi  \\\n",
              "horas            6.0                 3     4.0         1.0     2.0      1   \n",
              "calificación     9.3                 8     8.2         6.6     9.8      7   \n",
              "\n",
              "              Edna Moda  Mufasa  Tinker Bell  Pato Donald  Cenicienta  \\\n",
              "horas               4.0     2.0          3.0            1         2.0   \n",
              "calificación        8.9     9.5          7.5            6         8.7   \n",
              "\n",
              "              Gus Gus  Rapunzel  Nemo  Tarzan  Eva  Tweedle Dee  Minnie Mouse  \\\n",
              "horas             0.0       5.0   1.0       4    3          0.0           5.0   \n",
              "calificación      3.8       9.7   5.5       7    9          2.5           8.5   \n",
              "\n",
              "              Tiger  Ursula  \n",
              "horas           2.0     1.0  \n",
              "calificación    6.7     6.9  "
            ],
            "text/html": [
              "\n",
              "  <div id=\"df-e70b0a70-6f5e-4e5f-b8eb-3a7389f11d33\">\n",
              "    <div class=\"colab-df-container\">\n",
              "      <div>\n",
              "<style scoped>\n",
              "    .dataframe tbody tr th:only-of-type {\n",
              "        vertical-align: middle;\n",
              "    }\n",
              "\n",
              "    .dataframe tbody tr th {\n",
              "        vertical-align: top;\n",
              "    }\n",
              "\n",
              "    .dataframe thead th {\n",
              "        text-align: right;\n",
              "    }\n",
              "</style>\n",
              "<table border=\"1\" class=\"dataframe\">\n",
              "  <thead>\n",
              "    <tr style=\"text-align: right;\">\n",
              "      <th></th>\n",
              "      <th>Aurora</th>\n",
              "      <th>Anakin Skywalker</th>\n",
              "      <th>Alicia</th>\n",
              "      <th>Robin Hood</th>\n",
              "      <th>Barbie</th>\n",
              "      <th>Bambi</th>\n",
              "      <th>Edna Moda</th>\n",
              "      <th>Mufasa</th>\n",
              "      <th>Tinker Bell</th>\n",
              "      <th>Pato Donald</th>\n",
              "      <th>Cenicienta</th>\n",
              "      <th>Gus Gus</th>\n",
              "      <th>Rapunzel</th>\n",
              "      <th>Nemo</th>\n",
              "      <th>Tarzan</th>\n",
              "      <th>Eva</th>\n",
              "      <th>Tweedle Dee</th>\n",
              "      <th>Minnie Mouse</th>\n",
              "      <th>Tiger</th>\n",
              "      <th>Ursula</th>\n",
              "    </tr>\n",
              "  </thead>\n",
              "  <tbody>\n",
              "    <tr>\n",
              "      <th>horas</th>\n",
              "      <td>6.0</td>\n",
              "      <td>3</td>\n",
              "      <td>4.0</td>\n",
              "      <td>1.0</td>\n",
              "      <td>2.0</td>\n",
              "      <td>1</td>\n",
              "      <td>4.0</td>\n",
              "      <td>2.0</td>\n",
              "      <td>3.0</td>\n",
              "      <td>1</td>\n",
              "      <td>2.0</td>\n",
              "      <td>0.0</td>\n",
              "      <td>5.0</td>\n",
              "      <td>1.0</td>\n",
              "      <td>4</td>\n",
              "      <td>3</td>\n",
              "      <td>0.0</td>\n",
              "      <td>5.0</td>\n",
              "      <td>2.0</td>\n",
              "      <td>1.0</td>\n",
              "    </tr>\n",
              "    <tr>\n",
              "      <th>calificación</th>\n",
              "      <td>9.3</td>\n",
              "      <td>8</td>\n",
              "      <td>8.2</td>\n",
              "      <td>6.6</td>\n",
              "      <td>9.8</td>\n",
              "      <td>7</td>\n",
              "      <td>8.9</td>\n",
              "      <td>9.5</td>\n",
              "      <td>7.5</td>\n",
              "      <td>6</td>\n",
              "      <td>8.7</td>\n",
              "      <td>3.8</td>\n",
              "      <td>9.7</td>\n",
              "      <td>5.5</td>\n",
              "      <td>7</td>\n",
              "      <td>9</td>\n",
              "      <td>2.5</td>\n",
              "      <td>8.5</td>\n",
              "      <td>6.7</td>\n",
              "      <td>6.9</td>\n",
              "    </tr>\n",
              "  </tbody>\n",
              "</table>\n",
              "</div>\n",
              "      <button class=\"colab-df-convert\" onclick=\"convertToInteractive('df-e70b0a70-6f5e-4e5f-b8eb-3a7389f11d33')\"\n",
              "              title=\"Convert this dataframe to an interactive table.\"\n",
              "              style=\"display:none;\">\n",
              "        \n",
              "  <svg xmlns=\"http://www.w3.org/2000/svg\" height=\"24px\"viewBox=\"0 0 24 24\"\n",
              "       width=\"24px\">\n",
              "    <path d=\"M0 0h24v24H0V0z\" fill=\"none\"/>\n",
              "    <path d=\"M18.56 5.44l.94 2.06.94-2.06 2.06-.94-2.06-.94-.94-2.06-.94 2.06-2.06.94zm-11 1L8.5 8.5l.94-2.06 2.06-.94-2.06-.94L8.5 2.5l-.94 2.06-2.06.94zm10 10l.94 2.06.94-2.06 2.06-.94-2.06-.94-.94-2.06-.94 2.06-2.06.94z\"/><path d=\"M17.41 7.96l-1.37-1.37c-.4-.4-.92-.59-1.43-.59-.52 0-1.04.2-1.43.59L10.3 9.45l-7.72 7.72c-.78.78-.78 2.05 0 2.83L4 21.41c.39.39.9.59 1.41.59.51 0 1.02-.2 1.41-.59l7.78-7.78 2.81-2.81c.8-.78.8-2.07 0-2.86zM5.41 20L4 18.59l7.72-7.72 1.47 1.35L5.41 20z\"/>\n",
              "  </svg>\n",
              "      </button>\n",
              "      \n",
              "  <style>\n",
              "    .colab-df-container {\n",
              "      display:flex;\n",
              "      flex-wrap:wrap;\n",
              "      gap: 12px;\n",
              "    }\n",
              "\n",
              "    .colab-df-convert {\n",
              "      background-color: #E8F0FE;\n",
              "      border: none;\n",
              "      border-radius: 50%;\n",
              "      cursor: pointer;\n",
              "      display: none;\n",
              "      fill: #1967D2;\n",
              "      height: 32px;\n",
              "      padding: 0 0 0 0;\n",
              "      width: 32px;\n",
              "    }\n",
              "\n",
              "    .colab-df-convert:hover {\n",
              "      background-color: #E2EBFA;\n",
              "      box-shadow: 0px 1px 2px rgba(60, 64, 67, 0.3), 0px 1px 3px 1px rgba(60, 64, 67, 0.15);\n",
              "      fill: #174EA6;\n",
              "    }\n",
              "\n",
              "    [theme=dark] .colab-df-convert {\n",
              "      background-color: #3B4455;\n",
              "      fill: #D2E3FC;\n",
              "    }\n",
              "\n",
              "    [theme=dark] .colab-df-convert:hover {\n",
              "      background-color: #434B5C;\n",
              "      box-shadow: 0px 1px 3px 1px rgba(0, 0, 0, 0.15);\n",
              "      filter: drop-shadow(0px 1px 2px rgba(0, 0, 0, 0.3));\n",
              "      fill: #FFFFFF;\n",
              "    }\n",
              "  </style>\n",
              "\n",
              "      <script>\n",
              "        const buttonEl =\n",
              "          document.querySelector('#df-e70b0a70-6f5e-4e5f-b8eb-3a7389f11d33 button.colab-df-convert');\n",
              "        buttonEl.style.display =\n",
              "          google.colab.kernel.accessAllowed ? 'block' : 'none';\n",
              "\n",
              "        async function convertToInteractive(key) {\n",
              "          const element = document.querySelector('#df-e70b0a70-6f5e-4e5f-b8eb-3a7389f11d33');\n",
              "          const dataTable =\n",
              "            await google.colab.kernel.invokeFunction('convertToInteractive',\n",
              "                                                     [key], {});\n",
              "          if (!dataTable) return;\n",
              "\n",
              "          const docLinkHtml = 'Like what you see? Visit the ' +\n",
              "            '<a target=\"_blank\" href=https://colab.research.google.com/notebooks/data_table.ipynb>data table notebook</a>'\n",
              "            + ' to learn more about interactive tables.';\n",
              "          element.innerHTML = '';\n",
              "          dataTable['output_type'] = 'display_data';\n",
              "          await google.colab.output.renderOutput(dataTable, element);\n",
              "          const docLink = document.createElement('div');\n",
              "          docLink.innerHTML = docLinkHtml;\n",
              "          element.appendChild(docLink);\n",
              "        }\n",
              "      </script>\n",
              "    </div>\n",
              "  </div>\n",
              "  "
            ]
          },
          "metadata": {},
          "execution_count": 8
        }
      ]
    },
    {
      "cell_type": "code",
      "source": [
        "#media\n",
        "dfestudiantes.median(1, True, None, None)"
      ],
      "metadata": {
        "colab": {
          "base_uri": "https://localhost:8080/"
        },
        "id": "RofCzIdyg2HS",
        "outputId": "31bcfdec-9ff2-4585-9012-4352ee45de94"
      },
      "execution_count": null,
      "outputs": [
        {
          "output_type": "execute_result",
          "data": {
            "text/plain": [
              "horas           2.00\n",
              "calificación    7.75\n",
              "dtype: float64"
            ]
          },
          "metadata": {},
          "execution_count": 12
        }
      ]
    },
    {
      "cell_type": "code",
      "source": [
        "#moda\n",
        "dfestudiantes.mode(1, True, None)"
      ],
      "metadata": {
        "colab": {
          "base_uri": "https://localhost:8080/",
          "height": 112
        },
        "id": "eXesvldMixtI",
        "outputId": "026e45ad-0b14-451a-fa47-1869d4218a93"
      },
      "execution_count": null,
      "outputs": [
        {
          "output_type": "execute_result",
          "data": {
            "text/plain": [
              "                0\n",
              "horas         1.0\n",
              "calificación  7.0"
            ],
            "text/html": [
              "\n",
              "  <div id=\"df-6e05519d-f77c-4c74-8660-33d93bd2c6a4\">\n",
              "    <div class=\"colab-df-container\">\n",
              "      <div>\n",
              "<style scoped>\n",
              "    .dataframe tbody tr th:only-of-type {\n",
              "        vertical-align: middle;\n",
              "    }\n",
              "\n",
              "    .dataframe tbody tr th {\n",
              "        vertical-align: top;\n",
              "    }\n",
              "\n",
              "    .dataframe thead th {\n",
              "        text-align: right;\n",
              "    }\n",
              "</style>\n",
              "<table border=\"1\" class=\"dataframe\">\n",
              "  <thead>\n",
              "    <tr style=\"text-align: right;\">\n",
              "      <th></th>\n",
              "      <th>0</th>\n",
              "    </tr>\n",
              "  </thead>\n",
              "  <tbody>\n",
              "    <tr>\n",
              "      <th>horas</th>\n",
              "      <td>1.0</td>\n",
              "    </tr>\n",
              "    <tr>\n",
              "      <th>calificación</th>\n",
              "      <td>7.0</td>\n",
              "    </tr>\n",
              "  </tbody>\n",
              "</table>\n",
              "</div>\n",
              "      <button class=\"colab-df-convert\" onclick=\"convertToInteractive('df-6e05519d-f77c-4c74-8660-33d93bd2c6a4')\"\n",
              "              title=\"Convert this dataframe to an interactive table.\"\n",
              "              style=\"display:none;\">\n",
              "        \n",
              "  <svg xmlns=\"http://www.w3.org/2000/svg\" height=\"24px\"viewBox=\"0 0 24 24\"\n",
              "       width=\"24px\">\n",
              "    <path d=\"M0 0h24v24H0V0z\" fill=\"none\"/>\n",
              "    <path d=\"M18.56 5.44l.94 2.06.94-2.06 2.06-.94-2.06-.94-.94-2.06-.94 2.06-2.06.94zm-11 1L8.5 8.5l.94-2.06 2.06-.94-2.06-.94L8.5 2.5l-.94 2.06-2.06.94zm10 10l.94 2.06.94-2.06 2.06-.94-2.06-.94-.94-2.06-.94 2.06-2.06.94z\"/><path d=\"M17.41 7.96l-1.37-1.37c-.4-.4-.92-.59-1.43-.59-.52 0-1.04.2-1.43.59L10.3 9.45l-7.72 7.72c-.78.78-.78 2.05 0 2.83L4 21.41c.39.39.9.59 1.41.59.51 0 1.02-.2 1.41-.59l7.78-7.78 2.81-2.81c.8-.78.8-2.07 0-2.86zM5.41 20L4 18.59l7.72-7.72 1.47 1.35L5.41 20z\"/>\n",
              "  </svg>\n",
              "      </button>\n",
              "      \n",
              "  <style>\n",
              "    .colab-df-container {\n",
              "      display:flex;\n",
              "      flex-wrap:wrap;\n",
              "      gap: 12px;\n",
              "    }\n",
              "\n",
              "    .colab-df-convert {\n",
              "      background-color: #E8F0FE;\n",
              "      border: none;\n",
              "      border-radius: 50%;\n",
              "      cursor: pointer;\n",
              "      display: none;\n",
              "      fill: #1967D2;\n",
              "      height: 32px;\n",
              "      padding: 0 0 0 0;\n",
              "      width: 32px;\n",
              "    }\n",
              "\n",
              "    .colab-df-convert:hover {\n",
              "      background-color: #E2EBFA;\n",
              "      box-shadow: 0px 1px 2px rgba(60, 64, 67, 0.3), 0px 1px 3px 1px rgba(60, 64, 67, 0.15);\n",
              "      fill: #174EA6;\n",
              "    }\n",
              "\n",
              "    [theme=dark] .colab-df-convert {\n",
              "      background-color: #3B4455;\n",
              "      fill: #D2E3FC;\n",
              "    }\n",
              "\n",
              "    [theme=dark] .colab-df-convert:hover {\n",
              "      background-color: #434B5C;\n",
              "      box-shadow: 0px 1px 3px 1px rgba(0, 0, 0, 0.15);\n",
              "      filter: drop-shadow(0px 1px 2px rgba(0, 0, 0, 0.3));\n",
              "      fill: #FFFFFF;\n",
              "    }\n",
              "  </style>\n",
              "\n",
              "      <script>\n",
              "        const buttonEl =\n",
              "          document.querySelector('#df-6e05519d-f77c-4c74-8660-33d93bd2c6a4 button.colab-df-convert');\n",
              "        buttonEl.style.display =\n",
              "          google.colab.kernel.accessAllowed ? 'block' : 'none';\n",
              "\n",
              "        async function convertToInteractive(key) {\n",
              "          const element = document.querySelector('#df-6e05519d-f77c-4c74-8660-33d93bd2c6a4');\n",
              "          const dataTable =\n",
              "            await google.colab.kernel.invokeFunction('convertToInteractive',\n",
              "                                                     [key], {});\n",
              "          if (!dataTable) return;\n",
              "\n",
              "          const docLinkHtml = 'Like what you see? Visit the ' +\n",
              "            '<a target=\"_blank\" href=https://colab.research.google.com/notebooks/data_table.ipynb>data table notebook</a>'\n",
              "            + ' to learn more about interactive tables.';\n",
              "          element.innerHTML = '';\n",
              "          dataTable['output_type'] = 'display_data';\n",
              "          await google.colab.output.renderOutput(dataTable, element);\n",
              "          const docLink = document.createElement('div');\n",
              "          docLink.innerHTML = docLinkHtml;\n",
              "          element.appendChild(docLink);\n",
              "        }\n",
              "      </script>\n",
              "    </div>\n",
              "  </div>\n",
              "  "
            ]
          },
          "metadata": {},
          "execution_count": 15
        }
      ]
    }
  ]
}