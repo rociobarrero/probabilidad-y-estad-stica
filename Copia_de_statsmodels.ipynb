{
  "cells": [
    {
      "cell_type": "markdown",
      "metadata": {
        "id": "kZUHI1XZ3kqO"
      },
      "source": [
        "# Statistical Modeling with Python\n",
        "\n",
        "`statsmodels` is better suited for traditional stats"
      ]
    },
    {
      "cell_type": "code",
      "execution_count": 3,
      "metadata": {
        "ExecuteTime": {
          "end_time": "2020-05-13T15:18:36.966142Z",
          "start_time": "2020-05-13T15:18:36.963232Z"
        },
        "id": "z4knjWV43kqW"
      },
      "outputs": [],
      "source": [
        "# the statsmodels.api uses numpy array notation\n",
        "# statsmodels.formula.api use formula notation (similar to R's formula notation)\n",
        "import numpy as np\n",
        "import pandas as pd\n",
        "import matplotlib.pyplot as plt\n",
        "import seaborn as sns\n",
        "import statsmodels.api as sm\n",
        "import statsmodels.formula.api as smf"
      ]
    },
    {
      "cell_type": "markdown",
      "metadata": {
        "id": "WR2zVUkZ3kqb"
      },
      "source": [
        "## A minimal OLS example"
      ]
    },
    {
      "cell_type": "markdown",
      "metadata": {
        "id": "4Qhd04K63kqc"
      },
      "source": [
        "Four pairs of points"
      ]
    },
    {
      "cell_type": "code",
      "execution_count": 4,
      "metadata": {
        "id": "J3vOGS6_3kqc"
      },
      "outputs": [],
      "source": [
        "x = np.array([1,2,3,4])\n",
        "y = np.array([2,6,4,8])"
      ]
    },
    {
      "cell_type": "code",
      "execution_count": 5,
      "metadata": {
        "id": "L9QIhXVi3kqd",
        "outputId": "05a0485c-6200-4e36-bc99-6bdd497d8c13",
        "colab": {
          "base_uri": "https://localhost:8080/",
          "height": 269
        }
      },
      "outputs": [
        {
          "output_type": "display_data",
          "data": {
            "text/plain": [
              "<Figure size 432x288 with 1 Axes>"
            ],
            "image/png": "[encoded data removed]"
          },
          "metadata": {
            "needs_background": "light"
          }
        }
      ],
      "source": [
        "plt.scatter(x,y, marker = '.')\n",
        "plt.xlim(0,5)\n",
        "plt.ylim(0,10)\n",
        "plt.show()"
      ]
    },
    {
      "cell_type": "code",
      "execution_count": 6,
      "metadata": {
        "id": "luUEVA6w3kqg",
        "outputId": "ea9b5e38-bf5a-4795-9f54-de0291ed1cb6",
        "colab": {
          "base_uri": "https://localhost:8080/"
        }
      },
      "outputs": [
        {
          "output_type": "stream",
          "name": "stdout",
          "text": [
            "   x  y\n",
            "0  1  2\n",
            "1  2  6\n",
            "2  3  4\n",
            "3  4  8\n"
          ]
        }
      ],
      "source": [
        "# make a dataframe of our data\n",
        "d = pd.DataFrame({'x':x, 'y':y})\n",
        "print(d)"
      ]
    },
    {
      "cell_type": "markdown",
      "metadata": {
        "id": "BQcb7etn3kqi"
      },
      "source": [
        "Seaborn lmplot"
      ]
    },
    {
      "cell_type": "code",
      "execution_count": 7,
      "metadata": {
        "id": "vgetHdZZ3kqj",
        "outputId": "ce2f7d51-fdf5-419f-970c-8173aa979189",
        "colab": {
          "base_uri": "https://localhost:8080/",
          "height": 386
        }
      },
      "outputs": [
        {
          "output_type": "execute_result",
          "data": {
            "text/plain": [
              "<seaborn.axisgrid.FacetGrid at 0x7ff11ccc40d0>"
            ]
          },
          "metadata": {},
          "execution_count": 7
        },
        {
          "output_type": "display_data",
          "data": {
            "text/plain": [
              "<Figure size 360x360 with 1 Axes>"
            ],
            "image/png": "[encoded data removed]"
          },
          "metadata": {
            "needs_background": "light"
          }
        }
      ],
      "source": [
        "sns.lmplot(x = 'x', y = 'y', data = d)\n",
        "#recta de regresión"
      ]
    },
    {
      "cell_type": "markdown",
      "metadata": {
        "id": "dOi1Wzhy3kqk"
      },
      "source": [
        "## Formula notation with statsmodels\n",
        "use statsmodels.formula.api (often imported as smf)"
      ]
    },
    {
      "cell_type": "code",
      "execution_count": 8,
      "metadata": {
        "id": "T4TluJa03kql"
      },
      "outputs": [],
      "source": [
        "# data is in a dataframe\n",
        "model = smf.ols('y ~ x', data = d) #co esto se calcula beta 0 beta 1\n",
        "#qereos saber el modelo qe esta usado esta gráfica"
      ]
    },
    {
      "cell_type": "code",
      "execution_count": 9,
      "metadata": {
        "id": "WsUbe4BB3kqm"
      },
      "outputs": [],
      "source": [
        "# estimation of coefficients is not done until you call fit() on the model\n",
        "results = model.fit() #austar, alimentar modelo\n",
        "\n"
      ]
    },
    {
      "cell_type": "code",
      "execution_count": 10,
      "metadata": {
        "id": "DKUR8jV13kqn",
        "outputId": "6bee1918-3c1e-4d80-efbc-ebee232674a4",
        "colab": {
          "base_uri": "https://localhost:8080/"
        }
      },
      "outputs": [
        {
          "output_type": "stream",
          "name": "stdout",
          "text": [
            "                            OLS Regression Results                            \n",
            "==============================================================================\n",
            "Dep. Variable:                      y   R-squared:                       0.640\n",
            "Model:                            OLS   Adj. R-squared:                  0.460\n",
            "Method:                 Least Squares   F-statistic:                     3.556\n",
            "Date:                Wed, 16 Nov 2022   Prob (F-statistic):              0.200\n",
            "Time:                        18:02:10   Log-Likelihood:                -6.8513\n",
            "No. Observations:                   4   AIC:                             17.70\n",
            "Df Residuals:                       2   BIC:                             16.48\n",
            "Df Model:                           1                                         \n",
            "Covariance Type:            nonrobust                                         \n",
            "==============================================================================\n",
            "                 coef    std err          t      P>|t|      [0.025      0.975]\n",
            "------------------------------------------------------------------------------\n",
            "Intercept      1.0000      2.324      0.430      0.709      -8.998      10.998\n",
            "x              1.6000      0.849      1.886      0.200      -2.051       5.251\n",
            "==============================================================================\n",
            "Omnibus:                          nan   Durbin-Watson:                   3.400\n",
            "Prob(Omnibus):                    nan   Jarque-Bera (JB):                0.308\n",
            "Skew:                           0.000   Prob(JB):                        0.857\n",
            "Kurtosis:                       1.640   Cond. No.                         7.47\n",
            "==============================================================================\n",
            "\n",
            "Notes:\n",
            "[1] Standard Errors assume that the covariance matrix of the errors is correctly specified.\n"
          ]
        },
        {
          "output_type": "stream",
          "name": "stderr",
          "text": [
            "/usr/local/lib/python3.7/dist-packages/statsmodels/stats/stattools.py:75: ValueWarning: omni_normtest is not valid with less than 8 observations; 4 samples were given.\n",
            "  \"samples were given.\" % int(n), ValueWarning)\n"
          ]
        }
      ],
      "source": [
        "#la función summary es muy importante\n",
        "print(results.summary()) #te regresa la tablita de abajo \n",
        "\n",
        "#Model: OLS --> Ordinary Least Squares\n",
        "#R-squared --> que tan bueno es el modelo qe estamos usando mientras más cerca a 1\n",
        "#Intercept --> BETA 0 (1.0)\n",
        "#x --> BETA 1 (1.6)     ##y = 1+1.6x"
      ]
    },
    {
      "cell_type": "markdown",
      "metadata": {
        "id": "RBZEl28a3kqp"
      },
      "source": [
        "Using the abline_plot function for plotting the results"
      ]
    },
    {
      "cell_type": "code",
      "execution_count": 11,
      "metadata": {
        "id": "4JzeLT3D3kqq",
        "outputId": "1c836735-040b-4281-8152-ffc70d16c4dc",
        "colab": {
          "base_uri": "https://localhost:8080/",
          "height": 269
        }
      },
      "outputs": [
        {
          "output_type": "display_data",
          "data": {
            "text/plain": [
              "<Figure size 432x288 with 1 Axes>"
            ],
            "image/png": "[encoded data removed]"
          },
          "metadata": {
            "needs_background": "light"
          }
        }
      ],
      "source": [
        "sm.graphics.abline_plot(model_results = results)\n",
        "plt.scatter(d.x, d.y)\n",
        "\n",
        "plt.xlim(0,5)\n",
        "plt.ylim(0,10)\n",
        "\n",
        "plt.show()"
      ]
    },
    {
      "cell_type": "markdown",
      "metadata": {
        "id": "utqyzlBY3kqs"
      },
      "source": [
        "Generating an anova table\n",
        "\n",
        "(omitir)"
      ]
    },
    {
      "cell_type": "code",
      "execution_count": 12,
      "metadata": {
        "id": "LIXdKQzU3kqt",
        "outputId": "6d7d5568-b7b4-4f79-bd73-fceb7b63e2e3",
        "colab": {
          "base_uri": "https://localhost:8080/"
        }
      },
      "outputs": [
        {
          "output_type": "stream",
          "name": "stdout",
          "text": [
            "           df  sum_sq  mean_sq         F  PR(>F)\n",
            "x         1.0    12.8     12.8  3.555556     0.2\n",
            "Residual  2.0     7.2      3.6       NaN     NaN\n"
          ]
        }
      ],
      "source": [
        "print(sm.stats.anova_lm(results))\n"
      ]
    },
    {
      "cell_type": "markdown",
      "metadata": {
        "id": "18BcwpYi3kqt"
      },
      "source": [
        "Making predictions"
      ]
    },
    {
      "cell_type": "code",
      "execution_count": 13,
      "metadata": {
        "id": "1Y8ycHTr3kqu",
        "outputId": "95d4d856-6395-407a-e499-5851e62615f4",
        "colab": {
          "base_uri": "https://localhost:8080/"
        }
      },
      "outputs": [
        {
          "output_type": "execute_result",
          "data": {
            "text/plain": [
              "0    4.2\n",
              "dtype: float64"
            ]
          },
          "metadata": {},
          "execution_count": 13
        }
      ],
      "source": [
        "results.predict({'x' : 2})"
      ]
    },
    {
      "cell_type": "markdown",
      "metadata": {
        "id": "gZb4auin3kqv"
      },
      "source": [
        "## numpy array notation\n",
        "similar to sklearn's notation"
      ]
    },
    {
      "cell_type": "code",
      "execution_count": 14,
      "metadata": {
        "id": "tB6N6gvB3kqx",
        "outputId": "a5bbed6a-87d2-4c34-9e2b-5f5d1684d188",
        "colab": {
          "base_uri": "https://localhost:8080/"
        }
      },
      "outputs": [
        {
          "output_type": "stream",
          "name": "stdout",
          "text": [
            "[1 2 3 4]\n"
          ]
        }
      ],
      "source": [
        "#OTRO METODO PARA HACER LO MISMO MÁS RÁPIDO\n",
        "print(x)"
      ]
    },
    {
      "cell_type": "code",
      "execution_count": 15,
      "metadata": {
        "id": "Q3KgNPrt3kqz"
      },
      "outputs": [],
      "source": [
        "X = sm.add_constant(x)  #SIEMPRE PONER ESTO \n",
        "# need to add a constant for the intercept term.\n",
        "# because we are using the numpy notation, we use sm rather than smf"
      ]
    },
    {
      "cell_type": "code",
      "execution_count": 16,
      "metadata": {
        "id": "bZNg44Ou3kq1",
        "outputId": "cdef8c4d-a789-4bc0-f63c-ad3ca4292967",
        "colab": {
          "base_uri": "https://localhost:8080/"
        }
      },
      "outputs": [
        {
          "output_type": "stream",
          "name": "stdout",
          "text": [
            "[[1. 1.]\n",
            " [1. 2.]\n",
            " [1. 3.]\n",
            " [1. 4.]]\n"
          ]
        }
      ],
      "source": [
        "print(X)"
      ]
    },
    {
      "cell_type": "markdown",
      "metadata": {
        "id": "uU2kh-QB3kq2"
      },
      "source": [
        "$$y_i = \\beta_0 + \\beta_1 x_i + \\epsilon_i$$\n",
        "\n",
        "$$\\mathbf{\\hat{Y}} = \\boldsymbol{\\beta} \\mathbf{X}$$\n"
      ]
    },
    {
      "cell_type": "code",
      "execution_count": 17,
      "metadata": {
        "id": "HH71fwrW3kq3"
      },
      "outputs": [],
      "source": [
        "# OLS is capitalized in the numpy notation\n",
        "model2 = sm.OLS(y, X)  \n",
        "\n"
      ]
    },
    {
      "cell_type": "code",
      "execution_count": 18,
      "metadata": {
        "id": "XGaMNbye3kq4"
      },
      "outputs": [],
      "source": [
        "results2 = model2.fit()\n"
      ]
    },
    {
      "cell_type": "code",
      "execution_count": 19,
      "metadata": {
        "id": "d3VOwKvE3kq7",
        "outputId": "bcc1c92d-a1ea-459d-e32a-b6491de73ca2",
        "colab": {
          "base_uri": "https://localhost:8080/"
        }
      },
      "outputs": [
        {
          "output_type": "stream",
          "name": "stdout",
          "text": [
            "                            OLS Regression Results                            \n",
            "==============================================================================\n",
            "Dep. Variable:                      y   R-squared:                       0.640\n",
            "Model:                            OLS   Adj. R-squared:                  0.460\n",
            "Method:                 Least Squares   F-statistic:                     3.556\n",
            "Date:                Wed, 16 Nov 2022   Prob (F-statistic):              0.200\n",
            "Time:                        18:02:10   Log-Likelihood:                -6.8513\n",
            "No. Observations:                   4   AIC:                             17.70\n",
            "Df Residuals:                       2   BIC:                             16.48\n",
            "Df Model:                           1                                         \n",
            "Covariance Type:            nonrobust                                         \n",
            "==============================================================================\n",
            "                 coef    std err          t      P>|t|      [0.025      0.975]\n",
            "------------------------------------------------------------------------------\n",
            "const          1.0000      2.324      0.430      0.709      -8.998      10.998\n",
            "x1             1.6000      0.849      1.886      0.200      -2.051       5.251\n",
            "==============================================================================\n",
            "Omnibus:                          nan   Durbin-Watson:                   3.400\n",
            "Prob(Omnibus):                    nan   Jarque-Bera (JB):                0.308\n",
            "Skew:                           0.000   Prob(JB):                        0.857\n",
            "Kurtosis:                       1.640   Cond. No.                         7.47\n",
            "==============================================================================\n",
            "\n",
            "Notes:\n",
            "[1] Standard Errors assume that the covariance matrix of the errors is correctly specified.\n"
          ]
        },
        {
          "output_type": "stream",
          "name": "stderr",
          "text": [
            "/usr/local/lib/python3.7/dist-packages/statsmodels/stats/stattools.py:75: ValueWarning: omni_normtest is not valid with less than 8 observations; 4 samples were given.\n",
            "  \"samples were given.\" % int(n), ValueWarning)\n"
          ]
        }
      ],
      "source": [
        "print(results2.summary())\n"
      ]
    },
    {
      "cell_type": "markdown",
      "metadata": {
        "id": "woC7-Xoe3kq8"
      },
      "source": [
        "## OLS solution\n",
        "\n",
        "$$(X^TX)^{-1}X^TY$$\n",
        "\n",
        "(OMITIR)"
      ]
    },
    {
      "cell_type": "code",
      "execution_count": 20,
      "metadata": {
        "id": "_u04WrWF3kq9",
        "outputId": "2cc9bdab-5470-461c-9b93-ec2d4aee3819",
        "colab": {
          "base_uri": "https://localhost:8080/"
        }
      },
      "outputs": [
        {
          "output_type": "execute_result",
          "data": {
            "text/plain": [
              "array([[1., 1.],\n",
              "       [1., 2.],\n",
              "       [1., 3.],\n",
              "       [1., 4.]])"
            ]
          },
          "metadata": {},
          "execution_count": 20
        }
      ],
      "source": [
        "#TERCER METODO AÚN MÁS FÁCIL\n",
        "X"
      ]
    },
    {
      "cell_type": "code",
      "execution_count": 21,
      "metadata": {
        "id": "auUsHkgZ3kq-",
        "outputId": "eb86e772-6483-412d-96eb-68eaae88dd13",
        "colab": {
          "base_uri": "https://localhost:8080/"
        }
      },
      "outputs": [
        {
          "output_type": "execute_result",
          "data": {
            "text/plain": [
              "array([1. , 1.6])"
            ]
          },
          "metadata": {},
          "execution_count": 21
        }
      ],
      "source": [
        "np.linalg.inv(X.T @ X) @ (X.T @ y) #libreria de algebra lineal #inv = inversa  #X.T transpuesta de x #@ = multiplicar matrices"
      ]
    },
    {
      "cell_type": "markdown",
      "metadata": {
        "id": "aSbpg2_u3kq-"
      },
      "source": [
        "## Plot Interaction of Categorical Factors\n",
        "\n",
        "https://www.statsmodels.org/dev/examples/notebooks/generated/categorical_interaction_plot.html\n",
        "\n",
        "In this example, we will visualize the interaction between categorical factors. First, we will create some categorical data. Then, we will plot it using the interaction_plot function, which internally re-codes the x-factor categories to integers."
      ]
    },
    {
      "cell_type": "code",
      "execution_count": 22,
      "metadata": {
        "id": "RWsPCgzk3krA",
        "outputId": "3e46851f-475b-4904-c97a-7f4d47698cbd",
        "colab": {
          "base_uri": "https://localhost:8080/"
        }
      },
      "outputs": [
        {
          "output_type": "stream",
          "name": "stdout",
          "text": [
            "    Consumption  Gender  Income\n",
            "0            51    Male      80\n",
            "1            52    Male      80\n",
            "2            53    Male      90\n",
            "3            54    Male      90\n",
            "4            56    Male     100\n",
            "5            57    Male     100\n",
            "6            55  Female      80\n",
            "7            56  Female      80\n",
            "8            58  Female      90\n",
            "9            59  Female      90\n",
            "10           62  Female     100\n",
            "11           63  Female     100\n"
          ]
        }
      ],
      "source": [
        "# https://stackoverflow.com/questions/55663474/interaction-plot-from-statsmodels-formula-api-using-python\n",
        "#EJEMPLO\n",
        "\n",
        "import pandas as pd\n",
        "from statsmodels.formula.api import ols\n",
        "\n",
        "Consumption = [51, 52, 53, 54, 56, 57, 55, 56, 58, 59, 62, 63]\n",
        "Gender  = [\"Male\", \"Male\", \"Male\", \"Male\", \"Male\", \"Male\", \"Female\",\n",
        "           \"Female\", \"Female\", \"Female\", \"Female\", \"Female\"]\n",
        "Income = [80, 80, 90, 90, 100, 100, 80, 80, 90, 90, 100, 100] #listas del mismo tamaño\n",
        "\n",
        "df = pd.DataFrame( {\"Consumption\": Consumption, \"Gender\": Gender, \"Income\": Income}) #hacer data frame\n",
        "print(df)"
      ]
    },
    {
      "cell_type": "code",
      "execution_count": 23,
      "metadata": {
        "id": "MhFIAGwF3krD",
        "outputId": "52a78116-ba8d-49f8-fa86-687b11ae67a7",
        "colab": {
          "base_uri": "https://localhost:8080/",
          "height": 564
        }
      },
      "outputs": [
        {
          "output_type": "stream",
          "name": "stderr",
          "text": [
            "/usr/local/lib/python3.7/dist-packages/scipy/stats/stats.py:1542: UserWarning: kurtosistest only valid for n>=20 ... continuing anyway, n=12\n",
            "  \"anyway, n=%i\" % int(n))\n"
          ]
        },
        {
          "output_type": "execute_result",
          "data": {
            "text/plain": [
              "<class 'statsmodels.iolib.summary.Summary'>\n",
              "\"\"\"\n",
              "                            OLS Regression Results                            \n",
              "==============================================================================\n",
              "Dep. Variable:            Consumption   R-squared:                       0.976\n",
              "Model:                            OLS   Adj. R-squared:                  0.967\n",
              "Method:                 Least Squares   F-statistic:                     108.4\n",
              "Date:                Wed, 16 Nov 2022   Prob (F-statistic):           8.11e-07\n",
              "Time:                        18:02:10   Log-Likelihood:                -9.9135\n",
              "No. Observations:                  12   AIC:                             27.83\n",
              "Df Residuals:                       8   BIC:                             29.77\n",
              "Df Model:                           3                                         \n",
              "Covariance Type:            nonrobust                                         \n",
              "=========================================================================================\n",
              "                            coef    std err          t      P>|t|      [0.025      0.975]\n",
              "-----------------------------------------------------------------------------------------\n",
              "Intercept                27.3333      3.059      8.935      0.000      20.279      34.387\n",
              "Gender[T.Male]            4.0000      4.326      0.925      0.382      -5.976      13.976\n",
              "Income                    0.3500      0.034     10.340      0.000       0.272       0.428\n",
              "Gender[T.Male]:Income    -0.1000      0.048     -2.089      0.070      -0.210       0.010\n",
              "==============================================================================\n",
              "Omnibus:                        2.522   Durbin-Watson:                   3.273\n",
              "Prob(Omnibus):                  0.283   Jarque-Bera (JB):                0.970\n",
              "Skew:                          -0.055   Prob(JB):                        0.616\n",
              "Kurtosis:                       1.612   Cond. No.                     2.62e+03\n",
              "==============================================================================\n",
              "\n",
              "Notes:\n",
              "[1] Standard Errors assume that the covariance matrix of the errors is correctly specified.\n",
              "[2] The condition number is large, 2.62e+03. This might indicate that there are\n",
              "strong multicollinearity or other numerical problems.\n",
              "\"\"\""
            ],
            "text/html": [
              "<table class=\"simpletable\">\n",
              "<caption>OLS Regression Results</caption>\n",
              "<tr>\n",
              "  <th>Dep. Variable:</th>       <td>Consumption</td>   <th>  R-squared:         </th> <td>   0.976</td>\n",
              "</tr>\n",
              "<tr>\n",
              "  <th>Model:</th>                   <td>OLS</td>       <th>  Adj. R-squared:    </th> <td>   0.967</td>\n",
              "</tr>\n",
              "<tr>\n",
              "  <th>Method:</th>             <td>Least Squares</td>  <th>  F-statistic:       </th> <td>   108.4</td>\n",
              "</tr>\n",
              "<tr>\n",
              "  <th>Date:</th>             <td>Wed, 16 Nov 2022</td> <th>  Prob (F-statistic):</th> <td>8.11e-07</td>\n",
              "</tr>\n",
              "<tr>\n",
              "  <th>Time:</th>                 <td>18:02:10</td>     <th>  Log-Likelihood:    </th> <td> -9.9135</td>\n",
              "</tr>\n",
              "<tr>\n",
              "  <th>No. Observations:</th>      <td>    12</td>      <th>  AIC:               </th> <td>   27.83</td>\n",
              "</tr>\n",
              "<tr>\n",
              "  <th>Df Residuals:</th>          <td>     8</td>      <th>  BIC:               </th> <td>   29.77</td>\n",
              "</tr>\n",
              "<tr>\n",
              "  <th>Df Model:</th>              <td>     3</td>      <th>                     </th>     <td> </td>   \n",
              "</tr>\n",
              "<tr>\n",
              "  <th>Covariance Type:</th>      <td>nonrobust</td>    <th>                     </th>     <td> </td>   \n",
              "</tr>\n",
              "</table>\n",
              "<table class=\"simpletable\">\n",
              "<tr>\n",
              "            <td></td>               <th>coef</th>     <th>std err</th>      <th>t</th>      <th>P>|t|</th>  <th>[0.025</th>    <th>0.975]</th>  \n",
              "</tr>\n",
              "<tr>\n",
              "  <th>Intercept</th>             <td>   27.3333</td> <td>    3.059</td> <td>    8.935</td> <td> 0.000</td> <td>   20.279</td> <td>   34.387</td>\n",
              "</tr>\n",
              "<tr>\n",
              "  <th>Gender[T.Male]</th>        <td>    4.0000</td> <td>    4.326</td> <td>    0.925</td> <td> 0.382</td> <td>   -5.976</td> <td>   13.976</td>\n",
              "</tr>\n",
              "<tr>\n",
              "  <th>Income</th>                <td>    0.3500</td> <td>    0.034</td> <td>   10.340</td> <td> 0.000</td> <td>    0.272</td> <td>    0.428</td>\n",
              "</tr>\n",
              "<tr>\n",
              "  <th>Gender[T.Male]:Income</th> <td>   -0.1000</td> <td>    0.048</td> <td>   -2.089</td> <td> 0.070</td> <td>   -0.210</td> <td>    0.010</td>\n",
              "</tr>\n",
              "</table>\n",
              "<table class=\"simpletable\">\n",
              "<tr>\n",
              "  <th>Omnibus:</th>       <td> 2.522</td> <th>  Durbin-Watson:     </th> <td>   3.273</td>\n",
              "</tr>\n",
              "<tr>\n",
              "  <th>Prob(Omnibus):</th> <td> 0.283</td> <th>  Jarque-Bera (JB):  </th> <td>   0.970</td>\n",
              "</tr>\n",
              "<tr>\n",
              "  <th>Skew:</th>          <td>-0.055</td> <th>  Prob(JB):          </th> <td>   0.616</td>\n",
              "</tr>\n",
              "<tr>\n",
              "  <th>Kurtosis:</th>      <td> 1.612</td> <th>  Cond. No.          </th> <td>2.62e+03</td>\n",
              "</tr>\n",
              "</table><br/><br/>Notes:<br/>[1] Standard Errors assume that the covariance matrix of the errors is correctly specified.<br/>[2] The condition number is large, 2.62e+03. This might indicate that there are<br/>strong multicollinearity or other numerical problems."
            ]
          },
          "metadata": {},
          "execution_count": 23
        }
      ],
      "source": [
        "Reg = ols(formula = \"Consumption ~ Gender + Income + Gender*Income\", data = df) #regresión (~) respecto a gender e income, la primera es la variable responsiba (consumption)\n",
        "Fit = Reg.fit() #alimentar modelo\n",
        "Fit.summary()\n",
        "#un modelo de regresión múltiple es con más coeficientes/variables"
      ]
    },
    {
      "cell_type": "code",
      "execution_count": 24,
      "metadata": {
        "id": "2a9fWhAd3krT",
        "outputId": "5a909a9a-92d0-4297-9bad-10253d6e9dd6",
        "colab": {
          "base_uri": "https://localhost:8080/",
          "height": 282
        }
      },
      "outputs": [
        {
          "output_type": "display_data",
          "data": {
            "text/plain": [
              "<Figure size 432x288 with 1 Axes>"
            ],
            "image/png": "[encoded data removed]"
          },
          "metadata": {}
        }
      ],
      "source": [
        "import matplotlib.pyplot as plt\n",
        "from statsmodels.graphics.factorplots import interaction_plot\n",
        "plt.style.use('ggplot')\n",
        "\n",
        "fig = interaction_plot(\n",
        "   x        = Income,\n",
        "   trace    = Gender,\n",
        "   response = Fit.fittedvalues,\n",
        "   colors   = ['red','blue'],\n",
        "   markers  = ['D','^'])\n",
        "plt.xlabel('Income')\n",
        "plt.ylabel('Consumption')\n",
        "plt.legend().set_title(None)\n",
        "plt.show()"
      ]
    },
    {
      "cell_type": "markdown",
      "source": [
        "###Ejercicios \n",
        "1. aumentar 5 datos más \n",
        "3. mostrar las tablas summary"
      ],
      "metadata": {
        "id": "ZmSYKcKstaTj"
      }
    },
    {
      "cell_type": "code",
      "execution_count": 27,
      "metadata": {
        "id": "0EHRrn2L3krc"
      },
      "outputs": [],
      "source": [
        "x = np.array([1,2,3,4,5,6,7,8,9,10])\n",
        "y = np.array([2,6,4,8,10,12,14,16,18,20])"
      ]
    },
    {
      "cell_type": "code",
      "source": [
        "plt.scatter(x,y, marker = '.')\n",
        "plt.xlim(0,10)\n",
        "plt.ylim(0,20)\n",
        "plt.show()"
      ],
      "metadata": {
        "colab": {
          "base_uri": "https://localhost:8080/",
          "height": 269
        },
        "id": "O62hGEGZt34s",
        "outputId": "c2a7c17f-443d-4b15-8dd8-343c2c1ca889"
      },
      "execution_count": 29,
      "outputs": [
        {
          "output_type": "display_data",
          "data": {
            "text/plain": [
              "<Figure size 432x288 with 1 Axes>"
            ],
            "image/png": "[encoded data removed]"
          },
          "metadata": {}
        }
      ]
    },
    {
      "cell_type": "code",
      "source": [
        "d = pd.DataFrame({'x':x, 'y':y})\n",
        "print(d)"
      ],
      "metadata": {
        "colab": {
          "base_uri": "https://localhost:8080/"
        },
        "id": "bms1PRhVuMOh",
        "outputId": "87b51748-7116-4286-a7bb-e2b3f46fb51a"
      },
      "execution_count": 30,
      "outputs": [
        {
          "output_type": "stream",
          "name": "stdout",
          "text": [
            "    x   y\n",
            "0   1   2\n",
            "1   2   6\n",
            "2   3   4\n",
            "3   4   8\n",
            "4   5  10\n",
            "5   6  12\n",
            "6   7  14\n",
            "7   8  16\n",
            "8   9  18\n",
            "9  10  20\n"
          ]
        }
      ]
    },
    {
      "cell_type": "code",
      "source": [
        "sns.lmplot(x = 'x', y = 'y', data = d)"
      ],
      "metadata": {
        "colab": {
          "base_uri": "https://localhost:8080/",
          "height": 386
        },
        "id": "mlnKrKAOuP6K",
        "outputId": "ec70ebd2-3aa0-416f-efcf-f1e0004a0d54"
      },
      "execution_count": 31,
      "outputs": [
        {
          "output_type": "execute_result",
          "data": {
            "text/plain": [
              "<seaborn.axisgrid.FacetGrid at 0x7ff119ef07d0>"
            ]
          },
          "metadata": {},
          "execution_count": 31
        },
        {
          "output_type": "display_data",
          "data": {
            "text/plain": [
              "<Figure size 360x360 with 1 Axes>"
            ],
            "image/png": "[encoded data removed]"
          },
          "metadata": {}
        }
      ]
    },
    {
      "cell_type": "code",
      "source": [
        "model = smf.ols('y ~ x', data = d)"
      ],
      "metadata": {
        "id": "CbZ1dh9MuURu"
      },
      "execution_count": 33,
      "outputs": []
    },
    {
      "cell_type": "code",
      "source": [
        "results = model.fit()"
      ],
      "metadata": {
        "id": "Fc6d_Mm3uVLp"
      },
      "execution_count": 34,
      "outputs": []
    },
    {
      "cell_type": "code",
      "source": [
        "print(results.summary())"
      ],
      "metadata": {
        "colab": {
          "base_uri": "https://localhost:8080/"
        },
        "id": "nf2mOij-uZnF",
        "outputId": "2ee66def-d243-4803-8e16-0791701e842d"
      },
      "execution_count": 35,
      "outputs": [
        {
          "output_type": "stream",
          "name": "stdout",
          "text": [
            "                            OLS Regression Results                            \n",
            "==============================================================================\n",
            "Dep. Variable:                      y   R-squared:                       0.976\n",
            "Model:                            OLS   Adj. R-squared:                  0.973\n",
            "Method:                 Least Squares   F-statistic:                     324.0\n",
            "Date:                Wed, 16 Nov 2022   Prob (F-statistic):           9.31e-08\n",
            "Time:                        18:35:55   Log-Likelihood:                -13.043\n",
            "No. Observations:                  10   AIC:                             30.09\n",
            "Df Residuals:                       8   BIC:                             30.69\n",
            "Df Model:                           1                                         \n",
            "Covariance Type:            nonrobust                                         \n",
            "==============================================================================\n",
            "                 coef    std err          t      P>|t|      [0.025      0.975]\n",
            "------------------------------------------------------------------------------\n",
            "Intercept      0.1333      0.681      0.196      0.850      -1.437       1.704\n",
            "x              1.9758      0.110     18.000      0.000       1.723       2.229\n",
            "==============================================================================\n",
            "Omnibus:                        5.764   Durbin-Watson:                   3.019\n",
            "Prob(Omnibus):                  0.056   Jarque-Bera (JB):                1.731\n",
            "Skew:                          -0.243   Prob(JB):                        0.421\n",
            "Kurtosis:                       4.979   Cond. No.                         13.7\n",
            "==============================================================================\n",
            "\n",
            "Notes:\n",
            "[1] Standard Errors assume that the covariance matrix of the errors is correctly specified.\n"
          ]
        },
        {
          "output_type": "stream",
          "name": "stderr",
          "text": [
            "/usr/local/lib/python3.7/dist-packages/scipy/stats/stats.py:1542: UserWarning: kurtosistest only valid for n>=20 ... continuing anyway, n=10\n",
            "  \"anyway, n=%i\" % int(n))\n"
          ]
        }
      ]
    },
    {
      "cell_type": "markdown",
      "source": [
        "###Ejercios: \n",
        "2. quitar gender*income\n",
        "3. mostrar las tablas summary"
      ],
      "metadata": {
        "id": "693TKKdDuqQr"
      }
    },
    {
      "cell_type": "code",
      "source": [
        "import pandas as pd\n",
        "from statsmodels.formula.api import ols\n",
        "\n",
        "Consumption = [51, 52, 53, 54, 56, 57, 55, 56, 58, 59, 62, 63]\n",
        "Gender  = [\"Male\", \"Male\", \"Male\", \"Male\", \"Male\", \"Male\", \"Female\",\n",
        "           \"Female\", \"Female\", \"Female\", \"Female\", \"Female\"]\n",
        "Income = [80, 80, 90, 90, 100, 100, 80, 80, 90, 90, 100, 100] #listas del mismo tamaño\n",
        "\n",
        "df = pd.DataFrame( {\"Consumption\": Consumption, \"Gender\": Gender, \"Income\": Income}) #hacer data frame\n",
        "print(df)"
      ],
      "metadata": {
        "colab": {
          "base_uri": "https://localhost:8080/"
        },
        "id": "WShhYwNqu4FJ",
        "outputId": "82a5a146-5fd4-4f23-c324-c1b817a613c5"
      },
      "execution_count": 36,
      "outputs": [
        {
          "output_type": "stream",
          "name": "stdout",
          "text": [
            "    Consumption  Gender  Income\n",
            "0            51    Male      80\n",
            "1            52    Male      80\n",
            "2            53    Male      90\n",
            "3            54    Male      90\n",
            "4            56    Male     100\n",
            "5            57    Male     100\n",
            "6            55  Female      80\n",
            "7            56  Female      80\n",
            "8            58  Female      90\n",
            "9            59  Female      90\n",
            "10           62  Female     100\n",
            "11           63  Female     100\n"
          ]
        }
      ]
    },
    {
      "cell_type": "code",
      "source": [
        "Reg = ols(formula = \"Consumption ~ Gender + Income\", data = df)\n",
        "Fit = Reg.fit() \n",
        "Fit.summary()"
      ],
      "metadata": {
        "colab": {
          "base_uri": "https://localhost:8080/",
          "height": 542
        },
        "id": "t1XcUlk0u4t1",
        "outputId": "53605f86-cd08-4d3d-8cfc-22a1ac09ac0b"
      },
      "execution_count": 37,
      "outputs": [
        {
          "output_type": "stream",
          "name": "stderr",
          "text": [
            "/usr/local/lib/python3.7/dist-packages/scipy/stats/stats.py:1542: UserWarning: kurtosistest only valid for n>=20 ... continuing anyway, n=12\n",
            "  \"anyway, n=%i\" % int(n))\n"
          ]
        },
        {
          "output_type": "execute_result",
          "data": {
            "text/plain": [
              "<class 'statsmodels.iolib.summary.Summary'>\n",
              "\"\"\"\n",
              "                            OLS Regression Results                            \n",
              "==============================================================================\n",
              "Dep. Variable:            Consumption   R-squared:                       0.963\n",
              "Model:                            OLS   Adj. R-squared:                  0.955\n",
              "Method:                 Least Squares   F-statistic:                     116.7\n",
              "Date:                Wed, 16 Nov 2022   Prob (F-statistic):           3.66e-07\n",
              "Time:                        18:38:44   Log-Likelihood:                -12.525\n",
              "No. Observations:                  12   AIC:                             31.05\n",
              "Df Residuals:                       9   BIC:                             32.51\n",
              "Df Model:                           2                                         \n",
              "Covariance Type:            nonrobust                                         \n",
              "==================================================================================\n",
              "                     coef    std err          t      P>|t|      [0.025      0.975]\n",
              "----------------------------------------------------------------------------------\n",
              "Intercept         31.8333      2.546     12.505      0.000      26.075      37.592\n",
              "Gender[T.Male]    -5.0000      0.458    -10.914      0.000      -6.036      -3.964\n",
              "Income             0.3000      0.028     10.694      0.000       0.237       0.363\n",
              "==============================================================================\n",
              "Omnibus:                        0.407   Durbin-Watson:                   2.294\n",
              "Prob(Omnibus):                  0.816   Jarque-Bera (JB):                0.503\n",
              "Skew:                           0.228   Prob(JB):                        0.778\n",
              "Kurtosis:                       2.107   Cond. No.                     1.00e+03\n",
              "==============================================================================\n",
              "\n",
              "Notes:\n",
              "[1] Standard Errors assume that the covariance matrix of the errors is correctly specified.\n",
              "[2] The condition number is large,  1e+03. This might indicate that there are\n",
              "strong multicollinearity or other numerical problems.\n",
              "\"\"\""
            ],
            "text/html": [
              "<table class=\"simpletable\">\n",
              "<caption>OLS Regression Results</caption>\n",
              "<tr>\n",
              "  <th>Dep. Variable:</th>       <td>Consumption</td>   <th>  R-squared:         </th> <td>   0.963</td>\n",
              "</tr>\n",
              "<tr>\n",
              "  <th>Model:</th>                   <td>OLS</td>       <th>  Adj. R-squared:    </th> <td>   0.955</td>\n",
              "</tr>\n",
              "<tr>\n",
              "  <th>Method:</th>             <td>Least Squares</td>  <th>  F-statistic:       </th> <td>   116.7</td>\n",
              "</tr>\n",
              "<tr>\n",
              "  <th>Date:</th>             <td>Wed, 16 Nov 2022</td> <th>  Prob (F-statistic):</th> <td>3.66e-07</td>\n",
              "</tr>\n",
              "<tr>\n",
              "  <th>Time:</th>                 <td>18:38:44</td>     <th>  Log-Likelihood:    </th> <td> -12.525</td>\n",
              "</tr>\n",
              "<tr>\n",
              "  <th>No. Observations:</th>      <td>    12</td>      <th>  AIC:               </th> <td>   31.05</td>\n",
              "</tr>\n",
              "<tr>\n",
              "  <th>Df Residuals:</th>          <td>     9</td>      <th>  BIC:               </th> <td>   32.51</td>\n",
              "</tr>\n",
              "<tr>\n",
              "  <th>Df Model:</th>              <td>     2</td>      <th>                     </th>     <td> </td>   \n",
              "</tr>\n",
              "<tr>\n",
              "  <th>Covariance Type:</th>      <td>nonrobust</td>    <th>                     </th>     <td> </td>   \n",
              "</tr>\n",
              "</table>\n",
              "<table class=\"simpletable\">\n",
              "<tr>\n",
              "         <td></td>           <th>coef</th>     <th>std err</th>      <th>t</th>      <th>P>|t|</th>  <th>[0.025</th>    <th>0.975]</th>  \n",
              "</tr>\n",
              "<tr>\n",
              "  <th>Intercept</th>      <td>   31.8333</td> <td>    2.546</td> <td>   12.505</td> <td> 0.000</td> <td>   26.075</td> <td>   37.592</td>\n",
              "</tr>\n",
              "<tr>\n",
              "  <th>Gender[T.Male]</th> <td>   -5.0000</td> <td>    0.458</td> <td>  -10.914</td> <td> 0.000</td> <td>   -6.036</td> <td>   -3.964</td>\n",
              "</tr>\n",
              "<tr>\n",
              "  <th>Income</th>         <td>    0.3000</td> <td>    0.028</td> <td>   10.694</td> <td> 0.000</td> <td>    0.237</td> <td>    0.363</td>\n",
              "</tr>\n",
              "</table>\n",
              "<table class=\"simpletable\">\n",
              "<tr>\n",
              "  <th>Omnibus:</th>       <td> 0.407</td> <th>  Durbin-Watson:     </th> <td>   2.294</td>\n",
              "</tr>\n",
              "<tr>\n",
              "  <th>Prob(Omnibus):</th> <td> 0.816</td> <th>  Jarque-Bera (JB):  </th> <td>   0.503</td>\n",
              "</tr>\n",
              "<tr>\n",
              "  <th>Skew:</th>          <td> 0.228</td> <th>  Prob(JB):          </th> <td>   0.778</td>\n",
              "</tr>\n",
              "<tr>\n",
              "  <th>Kurtosis:</th>      <td> 2.107</td> <th>  Cond. No.          </th> <td>1.00e+03</td>\n",
              "</tr>\n",
              "</table><br/><br/>Notes:<br/>[1] Standard Errors assume that the covariance matrix of the errors is correctly specified.<br/>[2] The condition number is large,  1e+03. This might indicate that there are<br/>strong multicollinearity or other numerical problems."
            ]
          },
          "metadata": {},
          "execution_count": 37
        }
      ]
    }
  ],
  "metadata": {
    "celltoolbar": "Slideshow",
    "kernelspec": {
      "display_name": "Python 3 (ipykernel)",
      "language": "python",
      "name": "python3"
    },
    "language_info": {
      "codemirror_mode": {
        "name": "ipython",
        "version": 3
      },
      "file_extension": ".py",
      "mimetype": "text/x-python",
      "name": "python",
      "nbconvert_exporter": "python",
      "pygments_lexer": "ipython3",
      "version": "3.9.7"
    },
    "latex_envs": {
      "LaTeX_envs_menu_present": true,
      "autoclose": false,
      "autocomplete": true,
      "bibliofile": "biblio.bib",
      "cite_by": "apalike",
      "current_citInitial": 1,
      "eqLabelWithNumbers": true,
      "eqNumInitial": 1,
      "hotkeys": {
        "equation": "Ctrl-E",
        "itemize": "Ctrl-I"
      },
      "labels_anchors": false,
      "latex_user_defs": false,
      "report_style_numbering": false,
      "user_envs_cfg": false
    },
    "toc": {
      "base_numbering": 1,
      "nav_menu": {},
      "number_sections": false,
      "sideBar": true,
      "skip_h1_title": false,
      "title_cell": "Table of Contents",
      "title_sidebar": "Contents",
      "toc_cell": false,
      "toc_position": {},
      "toc_section_display": true,
      "toc_window_display": false
    },
    "colab": {
      "provenance": []
    }
  },
  "nbformat": 4,
  "nbformat_minor": 0
}